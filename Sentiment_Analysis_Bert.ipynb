{
  "cells": [
    {
      "cell_type": "code",
      "execution_count": null,
      "metadata": {
        "id": "dvNgt9dtloTh"
      },
      "outputs": [],
      "source": [
        "from google.colab import drive\n",
        "import pandas as pd\n",
        "import matplotlib.pyplot as plt\n",
        "import numpy as np\n",
        "import tensorflow as tf\n",
        "import matplotlib.pyplot as plt\n",
        "from transformers import AutoTokenizer\n",
        "from sklearn.model_selection import train_test_split\n",
        "from transformers import TFBertForSequenceClassification\n",
        "import tensorflow as tf\n",
        "from sklearn.metrics import classification_report, confusion_matrix,ConfusionMatrixDisplay,roc_curve, auc,roc_auc_score"
      ]
    },
    {
      "cell_type": "code",
      "execution_count": null,
      "metadata": {
        "colab": {
          "base_uri": "https://localhost:8080/"
        },
        "id": "pkv6HnL-mVcd",
        "outputId": "b8133b77-2f13-40ee-89ee-8acdf36df296"
      },
      "outputs": [
        {
          "output_type": "stream",
          "name": "stdout",
          "text": [
            "Mounted at /content/drive\n"
          ]
        }
      ],
      "source": [
        "drive.mount('/content/drive')"
      ]
    },
    {
      "cell_type": "code",
      "execution_count": null,
      "metadata": {
        "id": "vKw1LFstma3u"
      },
      "outputs": [],
      "source": [
        "df=pd.read_csv(\"/content/drive/MyDrive/tamil_sentiment\")"
      ]
    },
    {
      "cell_type": "code",
      "execution_count": null,
      "metadata": {
        "colab": {
          "base_uri": "https://localhost:8080/",
          "height": 423
        },
        "id": "OMBTxP_gm5gH",
        "outputId": "65bb5ba0-0b97-4e63-dfd9-812d6396972b"
      },
      "outputs": [
        {
          "output_type": "execute_result",
          "data": {
            "text/plain": [
              "                                           tamil_cleaned  label\n",
              "0      வானி போஜன் ரசிகர்கள் சோலியைப் போல வாங்கிடா வெண...      1\n",
              "1      நான் உன்னை விரும்புகிறேன் அஜித் நான் விரும்புக...      0\n",
              "2             என்னாயா டிரெய்லர் கு முடி எல்லம் வேரா நிலை      0\n",
              "3                            விஜய் அண்ணா உர் மாஸ் தெர்ரி      0\n",
              "4                                        நம்ப நடே நாசாமா      2\n",
              "...                                                  ...    ...\n",
              "37700                                                         1\n",
              "37701  நாடக காதல்இதை தான் இந்தவெள்ளாள பிள்ளைமார் சார்...      0\n",
              "37702                                      சூப்பர் எஸ்கே      3\n",
              "37703  குறைந்தபட்ச எம் வியா வரா வெப்போமா அனைத்து தாலா...      0\n",
              "37704                          வேரா வேரா நிலை டா பதிப்பு      0\n",
              "\n",
              "[37705 rows x 2 columns]"
            ],
            "text/html": [
              "\n",
              "  <div id=\"df-9b393999-37be-4f98-b017-8f34fa9d70a6\" class=\"colab-df-container\">\n",
              "    <div>\n",
              "<style scoped>\n",
              "    .dataframe tbody tr th:only-of-type {\n",
              "        vertical-align: middle;\n",
              "    }\n",
              "\n",
              "    .dataframe tbody tr th {\n",
              "        vertical-align: top;\n",
              "    }\n",
              "\n",
              "    .dataframe thead th {\n",
              "        text-align: right;\n",
              "    }\n",
              "</style>\n",
              "<table border=\"1\" class=\"dataframe\">\n",
              "  <thead>\n",
              "    <tr style=\"text-align: right;\">\n",
              "      <th></th>\n",
              "      <th>tamil_cleaned</th>\n",
              "      <th>label</th>\n",
              "    </tr>\n",
              "  </thead>\n",
              "  <tbody>\n",
              "    <tr>\n",
              "      <th>0</th>\n",
              "      <td>வானி போஜன் ரசிகர்கள் சோலியைப் போல வாங்கிடா வெண...</td>\n",
              "      <td>1</td>\n",
              "    </tr>\n",
              "    <tr>\n",
              "      <th>1</th>\n",
              "      <td>நான் உன்னை விரும்புகிறேன் அஜித் நான் விரும்புக...</td>\n",
              "      <td>0</td>\n",
              "    </tr>\n",
              "    <tr>\n",
              "      <th>2</th>\n",
              "      <td>என்னாயா டிரெய்லர் கு முடி எல்லம் வேரா நிலை</td>\n",
              "      <td>0</td>\n",
              "    </tr>\n",
              "    <tr>\n",
              "      <th>3</th>\n",
              "      <td>விஜய் அண்ணா உர் மாஸ் தெர்ரி</td>\n",
              "      <td>0</td>\n",
              "    </tr>\n",
              "    <tr>\n",
              "      <th>4</th>\n",
              "      <td>நம்ப நடே நாசாமா</td>\n",
              "      <td>2</td>\n",
              "    </tr>\n",
              "    <tr>\n",
              "      <th>...</th>\n",
              "      <td>...</td>\n",
              "      <td>...</td>\n",
              "    </tr>\n",
              "    <tr>\n",
              "      <th>37700</th>\n",
              "      <td></td>\n",
              "      <td>1</td>\n",
              "    </tr>\n",
              "    <tr>\n",
              "      <th>37701</th>\n",
              "      <td>நாடக காதல்இதை தான் இந்தவெள்ளாள பிள்ளைமார் சார்...</td>\n",
              "      <td>0</td>\n",
              "    </tr>\n",
              "    <tr>\n",
              "      <th>37702</th>\n",
              "      <td>சூப்பர் எஸ்கே</td>\n",
              "      <td>3</td>\n",
              "    </tr>\n",
              "    <tr>\n",
              "      <th>37703</th>\n",
              "      <td>குறைந்தபட்ச எம் வியா வரா வெப்போமா அனைத்து தாலா...</td>\n",
              "      <td>0</td>\n",
              "    </tr>\n",
              "    <tr>\n",
              "      <th>37704</th>\n",
              "      <td>வேரா வேரா நிலை டா பதிப்பு</td>\n",
              "      <td>0</td>\n",
              "    </tr>\n",
              "  </tbody>\n",
              "</table>\n",
              "<p>37705 rows × 2 columns</p>\n",
              "</div>\n",
              "    <div class=\"colab-df-buttons\">\n",
              "\n",
              "  <div class=\"colab-df-container\">\n",
              "    <button class=\"colab-df-convert\" onclick=\"convertToInteractive('df-9b393999-37be-4f98-b017-8f34fa9d70a6')\"\n",
              "            title=\"Convert this dataframe to an interactive table.\"\n",
              "            style=\"display:none;\">\n",
              "\n",
              "  <svg xmlns=\"http://www.w3.org/2000/svg\" height=\"24px\" viewBox=\"0 -960 960 960\">\n",
              "    <path d=\"M120-120v-720h720v720H120Zm60-500h600v-160H180v160Zm220 220h160v-160H400v160Zm0 220h160v-160H400v160ZM180-400h160v-160H180v160Zm440 0h160v-160H620v160ZM180-180h160v-160H180v160Zm440 0h160v-160H620v160Z\"/>\n",
              "  </svg>\n",
              "    </button>\n",
              "\n",
              "  <style>\n",
              "    .colab-df-container {\n",
              "      display:flex;\n",
              "      gap: 12px;\n",
              "    }\n",
              "\n",
              "    .colab-df-convert {\n",
              "      background-color: #E8F0FE;\n",
              "      border: none;\n",
              "      border-radius: 50%;\n",
              "      cursor: pointer;\n",
              "      display: none;\n",
              "      fill: #1967D2;\n",
              "      height: 32px;\n",
              "      padding: 0 0 0 0;\n",
              "      width: 32px;\n",
              "    }\n",
              "\n",
              "    .colab-df-convert:hover {\n",
              "      background-color: #E2EBFA;\n",
              "      box-shadow: 0px 1px 2px rgba(60, 64, 67, 0.3), 0px 1px 3px 1px rgba(60, 64, 67, 0.15);\n",
              "      fill: #174EA6;\n",
              "    }\n",
              "\n",
              "    .colab-df-buttons div {\n",
              "      margin-bottom: 4px;\n",
              "    }\n",
              "\n",
              "    [theme=dark] .colab-df-convert {\n",
              "      background-color: #3B4455;\n",
              "      fill: #D2E3FC;\n",
              "    }\n",
              "\n",
              "    [theme=dark] .colab-df-convert:hover {\n",
              "      background-color: #434B5C;\n",
              "      box-shadow: 0px 1px 3px 1px rgba(0, 0, 0, 0.15);\n",
              "      filter: drop-shadow(0px 1px 2px rgba(0, 0, 0, 0.3));\n",
              "      fill: #FFFFFF;\n",
              "    }\n",
              "  </style>\n",
              "\n",
              "    <script>\n",
              "      const buttonEl =\n",
              "        document.querySelector('#df-9b393999-37be-4f98-b017-8f34fa9d70a6 button.colab-df-convert');\n",
              "      buttonEl.style.display =\n",
              "        google.colab.kernel.accessAllowed ? 'block' : 'none';\n",
              "\n",
              "      async function convertToInteractive(key) {\n",
              "        const element = document.querySelector('#df-9b393999-37be-4f98-b017-8f34fa9d70a6');\n",
              "        const dataTable =\n",
              "          await google.colab.kernel.invokeFunction('convertToInteractive',\n",
              "                                                    [key], {});\n",
              "        if (!dataTable) return;\n",
              "\n",
              "        const docLinkHtml = 'Like what you see? Visit the ' +\n",
              "          '<a target=\"_blank\" href=https://colab.research.google.com/notebooks/data_table.ipynb>data table notebook</a>'\n",
              "          + ' to learn more about interactive tables.';\n",
              "        element.innerHTML = '';\n",
              "        dataTable['output_type'] = 'display_data';\n",
              "        await google.colab.output.renderOutput(dataTable, element);\n",
              "        const docLink = document.createElement('div');\n",
              "        docLink.innerHTML = docLinkHtml;\n",
              "        element.appendChild(docLink);\n",
              "      }\n",
              "    </script>\n",
              "  </div>\n",
              "\n",
              "\n",
              "<div id=\"df-d609b883-9ddd-424d-a8c4-f4a6389bf409\">\n",
              "  <button class=\"colab-df-quickchart\" onclick=\"quickchart('df-d609b883-9ddd-424d-a8c4-f4a6389bf409')\"\n",
              "            title=\"Suggest charts\"\n",
              "            style=\"display:none;\">\n",
              "\n",
              "<svg xmlns=\"http://www.w3.org/2000/svg\" height=\"24px\"viewBox=\"0 0 24 24\"\n",
              "     width=\"24px\">\n",
              "    <g>\n",
              "        <path d=\"M19 3H5c-1.1 0-2 .9-2 2v14c0 1.1.9 2 2 2h14c1.1 0 2-.9 2-2V5c0-1.1-.9-2-2-2zM9 17H7v-7h2v7zm4 0h-2V7h2v10zm4 0h-2v-4h2v4z\"/>\n",
              "    </g>\n",
              "</svg>\n",
              "  </button>\n",
              "\n",
              "<style>\n",
              "  .colab-df-quickchart {\n",
              "      --bg-color: #E8F0FE;\n",
              "      --fill-color: #1967D2;\n",
              "      --hover-bg-color: #E2EBFA;\n",
              "      --hover-fill-color: #174EA6;\n",
              "      --disabled-fill-color: #AAA;\n",
              "      --disabled-bg-color: #DDD;\n",
              "  }\n",
              "\n",
              "  [theme=dark] .colab-df-quickchart {\n",
              "      --bg-color: #3B4455;\n",
              "      --fill-color: #D2E3FC;\n",
              "      --hover-bg-color: #434B5C;\n",
              "      --hover-fill-color: #FFFFFF;\n",
              "      --disabled-bg-color: #3B4455;\n",
              "      --disabled-fill-color: #666;\n",
              "  }\n",
              "\n",
              "  .colab-df-quickchart {\n",
              "    background-color: var(--bg-color);\n",
              "    border: none;\n",
              "    border-radius: 50%;\n",
              "    cursor: pointer;\n",
              "    display: none;\n",
              "    fill: var(--fill-color);\n",
              "    height: 32px;\n",
              "    padding: 0;\n",
              "    width: 32px;\n",
              "  }\n",
              "\n",
              "  .colab-df-quickchart:hover {\n",
              "    background-color: var(--hover-bg-color);\n",
              "    box-shadow: 0 1px 2px rgba(60, 64, 67, 0.3), 0 1px 3px 1px rgba(60, 64, 67, 0.15);\n",
              "    fill: var(--button-hover-fill-color);\n",
              "  }\n",
              "\n",
              "  .colab-df-quickchart-complete:disabled,\n",
              "  .colab-df-quickchart-complete:disabled:hover {\n",
              "    background-color: var(--disabled-bg-color);\n",
              "    fill: var(--disabled-fill-color);\n",
              "    box-shadow: none;\n",
              "  }\n",
              "\n",
              "  .colab-df-spinner {\n",
              "    border: 2px solid var(--fill-color);\n",
              "    border-color: transparent;\n",
              "    border-bottom-color: var(--fill-color);\n",
              "    animation:\n",
              "      spin 1s steps(1) infinite;\n",
              "  }\n",
              "\n",
              "  @keyframes spin {\n",
              "    0% {\n",
              "      border-color: transparent;\n",
              "      border-bottom-color: var(--fill-color);\n",
              "      border-left-color: var(--fill-color);\n",
              "    }\n",
              "    20% {\n",
              "      border-color: transparent;\n",
              "      border-left-color: var(--fill-color);\n",
              "      border-top-color: var(--fill-color);\n",
              "    }\n",
              "    30% {\n",
              "      border-color: transparent;\n",
              "      border-left-color: var(--fill-color);\n",
              "      border-top-color: var(--fill-color);\n",
              "      border-right-color: var(--fill-color);\n",
              "    }\n",
              "    40% {\n",
              "      border-color: transparent;\n",
              "      border-right-color: var(--fill-color);\n",
              "      border-top-color: var(--fill-color);\n",
              "    }\n",
              "    60% {\n",
              "      border-color: transparent;\n",
              "      border-right-color: var(--fill-color);\n",
              "    }\n",
              "    80% {\n",
              "      border-color: transparent;\n",
              "      border-right-color: var(--fill-color);\n",
              "      border-bottom-color: var(--fill-color);\n",
              "    }\n",
              "    90% {\n",
              "      border-color: transparent;\n",
              "      border-bottom-color: var(--fill-color);\n",
              "    }\n",
              "  }\n",
              "</style>\n",
              "\n",
              "  <script>\n",
              "    async function quickchart(key) {\n",
              "      const quickchartButtonEl =\n",
              "        document.querySelector('#' + key + ' button');\n",
              "      quickchartButtonEl.disabled = true;  // To prevent multiple clicks.\n",
              "      quickchartButtonEl.classList.add('colab-df-spinner');\n",
              "      try {\n",
              "        const charts = await google.colab.kernel.invokeFunction(\n",
              "            'suggestCharts', [key], {});\n",
              "      } catch (error) {\n",
              "        console.error('Error during call to suggestCharts:', error);\n",
              "      }\n",
              "      quickchartButtonEl.classList.remove('colab-df-spinner');\n",
              "      quickchartButtonEl.classList.add('colab-df-quickchart-complete');\n",
              "    }\n",
              "    (() => {\n",
              "      let quickchartButtonEl =\n",
              "        document.querySelector('#df-d609b883-9ddd-424d-a8c4-f4a6389bf409 button');\n",
              "      quickchartButtonEl.style.display =\n",
              "        google.colab.kernel.accessAllowed ? 'block' : 'none';\n",
              "    })();\n",
              "  </script>\n",
              "</div>\n",
              "\n",
              "  <div id=\"id_40031125-9dd5-43e6-bdaf-fce23fe3893b\">\n",
              "    <style>\n",
              "      .colab-df-generate {\n",
              "        background-color: #E8F0FE;\n",
              "        border: none;\n",
              "        border-radius: 50%;\n",
              "        cursor: pointer;\n",
              "        display: none;\n",
              "        fill: #1967D2;\n",
              "        height: 32px;\n",
              "        padding: 0 0 0 0;\n",
              "        width: 32px;\n",
              "      }\n",
              "\n",
              "      .colab-df-generate:hover {\n",
              "        background-color: #E2EBFA;\n",
              "        box-shadow: 0px 1px 2px rgba(60, 64, 67, 0.3), 0px 1px 3px 1px rgba(60, 64, 67, 0.15);\n",
              "        fill: #174EA6;\n",
              "      }\n",
              "\n",
              "      [theme=dark] .colab-df-generate {\n",
              "        background-color: #3B4455;\n",
              "        fill: #D2E3FC;\n",
              "      }\n",
              "\n",
              "      [theme=dark] .colab-df-generate:hover {\n",
              "        background-color: #434B5C;\n",
              "        box-shadow: 0px 1px 3px 1px rgba(0, 0, 0, 0.15);\n",
              "        filter: drop-shadow(0px 1px 2px rgba(0, 0, 0, 0.3));\n",
              "        fill: #FFFFFF;\n",
              "      }\n",
              "    </style>\n",
              "    <button class=\"colab-df-generate\" onclick=\"generateWithVariable('df')\"\n",
              "            title=\"Generate code using this dataframe.\"\n",
              "            style=\"display:none;\">\n",
              "\n",
              "  <svg xmlns=\"http://www.w3.org/2000/svg\" height=\"24px\"viewBox=\"0 0 24 24\"\n",
              "       width=\"24px\">\n",
              "    <path d=\"M7,19H8.4L18.45,9,17,7.55,7,17.6ZM5,21V16.75L18.45,3.32a2,2,0,0,1,2.83,0l1.4,1.43a1.91,1.91,0,0,1,.58,1.4,1.91,1.91,0,0,1-.58,1.4L9.25,21ZM18.45,9,17,7.55Zm-12,3A5.31,5.31,0,0,0,4.9,8.1,5.31,5.31,0,0,0,1,6.5,5.31,5.31,0,0,0,4.9,4.9,5.31,5.31,0,0,0,6.5,1,5.31,5.31,0,0,0,8.1,4.9,5.31,5.31,0,0,0,12,6.5,5.46,5.46,0,0,0,6.5,12Z\"/>\n",
              "  </svg>\n",
              "    </button>\n",
              "    <script>\n",
              "      (() => {\n",
              "      const buttonEl =\n",
              "        document.querySelector('#id_40031125-9dd5-43e6-bdaf-fce23fe3893b button.colab-df-generate');\n",
              "      buttonEl.style.display =\n",
              "        google.colab.kernel.accessAllowed ? 'block' : 'none';\n",
              "\n",
              "      buttonEl.onclick = () => {\n",
              "        google.colab.notebook.generateWithVariable('df');\n",
              "      }\n",
              "      })();\n",
              "    </script>\n",
              "  </div>\n",
              "\n",
              "    </div>\n",
              "  </div>\n"
            ]
          },
          "metadata": {},
          "execution_count": 4
        }
      ],
      "source": [
        "df"
      ]
    },
    {
      "cell_type": "code",
      "execution_count": null,
      "metadata": {
        "colab": {
          "base_uri": "https://localhost:8080/"
        },
        "id": "kX2-RI9_nvI0",
        "outputId": "bc651d79-4844-4e02-82f3-46136d07a919"
      },
      "outputs": [
        {
          "output_type": "execute_result",
          "data": {
            "text/plain": [
              "tamil_cleaned    object\n",
              "label             int64\n",
              "dtype: object"
            ]
          },
          "metadata": {},
          "execution_count": 5
        }
      ],
      "source": [
        "df.dtypes"
      ]
    },
    {
      "cell_type": "code",
      "execution_count": null,
      "metadata": {
        "colab": {
          "base_uri": "https://localhost:8080/"
        },
        "id": "eL5UuYfHfMfJ",
        "outputId": "53d137d4-f503-4679-b03a-3af467e65096"
      },
      "outputs": [
        {
          "output_type": "execute_result",
          "data": {
            "text/plain": [
              "(37705, 2)"
            ]
          },
          "metadata": {},
          "execution_count": 6
        }
      ],
      "source": [
        "df.shape"
      ]
    },
    {
      "cell_type": "code",
      "execution_count": null,
      "metadata": {
        "id": "sPYjaaTLF1dM"
      },
      "outputs": [],
      "source": [
        "train,test= train_test_split(df, test_size=0.2, random_state=42)"
      ]
    },
    {
      "cell_type": "code",
      "execution_count": null,
      "metadata": {
        "colab": {
          "base_uri": "https://localhost:8080/",
          "height": 325,
          "referenced_widgets": [
            "4eb9e25e3e3e4a86a84a809a4a78a230",
            "b522b9c5f5a0481292e947f79905206a",
            "d36095bed4d64d99a2d28af5dad2633d",
            "2644481971ee438596662246ef771a03",
            "246c4fcddbcc4a83b819fc4aec4f1458",
            "183365a21da044bfbaf4021894186b67",
            "28cf2a2db41f4ee181e685bc26bf4b3e",
            "83dbb9f7f9454125bfb936d7b1ae989e",
            "ea8b6ea4eeb146b3b57aec55b86f24c7",
            "482844fe90ef4193bfc000ea124354f1",
            "262ea43e52e74f64ae49097167f5a283",
            "651246b513d149b79c59f3c991b6f051",
            "946e4b7f1d5d4619982da2de3e7fe80a",
            "e03f26b0b07f43afbcc776e371ec98ba",
            "0838912a075f4bcd8c09e92103062234",
            "512baac316824b92bb8d079ca2700b3d",
            "c5b36f00c97a4c96bd6b70631c3aa451",
            "788495f273b244e9af402f3b3f0cec14",
            "8a715606f7ae47929cb19fa3bf5aa721",
            "cdfc3e02839e4e9d80de21c9e3a65a66",
            "b3d269a411294139a45a64b058c09e23",
            "e7bff6788d7d4bfcb2a41ea21ab200f7",
            "b64185f6993b477dbb7f727376fbf62b",
            "4af5e04b21da45e1a13998961b66e18c",
            "c08a758d326449a1af16388aa6ecbc57",
            "7447b46c004347fda11ca081915c0963",
            "67b5025b337241abbb17f32aa6cec4ce",
            "59c2ef00a91c42fcaf5022f6349b2caa",
            "2c7c73223799433a8de11898695ff374",
            "1616b646572045258db7464cee5eba99",
            "cefa6c7d31d040f982f9be3368ff3e52",
            "3873bc5112f64cc0bed8b09706adf59e",
            "6d72b0381e66470880d9fab6a5664d88",
            "34bf707986ea4b02a011be26b393ede1",
            "1d3238b76c214a85af8d1940dbd40811",
            "c6d05e929bba494cad18352aca41be5a",
            "e9ff74c994ab4672ad2ad8efc4cee19b",
            "82c4034825184a7faf045dc1d8a4b362",
            "d965eb046004472d8002fdbd1461f167",
            "0f883b73587349b799ba0d68d1938206",
            "00d848044ec74317a8347bedb8d8e034",
            "46dda43a913448629f04994d03826114",
            "a7df7b9c5f084c5496b4e9b341cc05ba",
            "4047db25c876417bbff4be25c04e421f"
          ]
        },
        "id": "6uwvfLKB_iwK",
        "outputId": "0b3fb7fe-8090-4e82-8f67-3b8bf3e4fcf8"
      },
      "outputs": [
        {
          "output_type": "stream",
          "name": "stderr",
          "text": [
            "/usr/local/lib/python3.10/dist-packages/huggingface_hub/utils/_token.py:88: UserWarning: \n",
            "The secret `HF_TOKEN` does not exist in your Colab secrets.\n",
            "To authenticate with the Hugging Face Hub, create a token in your settings tab (https://huggingface.co/settings/tokens), set it as secret in your Google Colab and restart your session.\n",
            "You will be able to reuse this secret in all of your notebooks.\n",
            "Please note that authentication is recommended but still optional to access public models or datasets.\n",
            "  warnings.warn(\n"
          ]
        },
        {
          "output_type": "display_data",
          "data": {
            "text/plain": [
              "tokenizer_config.json:   0%|          | 0.00/28.0 [00:00<?, ?B/s]"
            ],
            "application/vnd.jupyter.widget-view+json": {
              "version_major": 2,
              "version_minor": 0,
              "model_id": "4eb9e25e3e3e4a86a84a809a4a78a230"
            }
          },
          "metadata": {}
        },
        {
          "output_type": "display_data",
          "data": {
            "text/plain": [
              "config.json:   0%|          | 0.00/625 [00:00<?, ?B/s]"
            ],
            "application/vnd.jupyter.widget-view+json": {
              "version_major": 2,
              "version_minor": 0,
              "model_id": "651246b513d149b79c59f3c991b6f051"
            }
          },
          "metadata": {}
        },
        {
          "output_type": "display_data",
          "data": {
            "text/plain": [
              "vocab.txt:   0%|          | 0.00/872k [00:00<?, ?B/s]"
            ],
            "application/vnd.jupyter.widget-view+json": {
              "version_major": 2,
              "version_minor": 0,
              "model_id": "b64185f6993b477dbb7f727376fbf62b"
            }
          },
          "metadata": {}
        },
        {
          "output_type": "display_data",
          "data": {
            "text/plain": [
              "tokenizer.json:   0%|          | 0.00/1.72M [00:00<?, ?B/s]"
            ],
            "application/vnd.jupyter.widget-view+json": {
              "version_major": 2,
              "version_minor": 0,
              "model_id": "34bf707986ea4b02a011be26b393ede1"
            }
          },
          "metadata": {}
        }
      ],
      "source": [
        "max_length = 512\n",
        "batch_size = 6\n",
        "\n",
        "# Instantiate the tokenizer\n",
        "model_name = 'bert-base-multilingual-uncased'  # You may need a multilingual model for Tamil\n",
        "tokenizer = AutoTokenizer.from_pretrained(model_name)"
      ]
    },
    {
      "cell_type": "code",
      "execution_count": null,
      "metadata": {
        "id": "AWOa0NDVR81z"
      },
      "outputs": [],
      "source": [
        "# Assuming you have four labels: 0, 1, 2, 3\n",
        "num_labels = 4\n",
        "\n",
        "def convert_example_to_feature(sentiment):\n",
        "    return tokenizer.encode_plus(sentiment,\n",
        "                                 add_special_tokens=True,\n",
        "                                 max_length=max_length,\n",
        "                                 padding='max_length',\n",
        "                                 return_attention_mask=True,\n",
        "                                 truncation=True\n",
        "                                 )"
      ]
    },
    {
      "cell_type": "code",
      "execution_count": null,
      "metadata": {
        "id": "SBSG2xfrR84E"
      },
      "outputs": [],
      "source": [
        "def map_example_to_dict(row):\n",
        "    bert_input = convert_example_to_feature(row['tamil_cleaned'])\n",
        "    return {\n",
        "        \"input_ids\": bert_input['input_ids'],\n",
        "        \"token_type_ids\": bert_input['token_type_ids'],\n",
        "        \"attention_mask\": bert_input['attention_mask'],\n",
        "    }, tf.keras.utils.to_categorical(row['label'], num_classes=num_labels)"
      ]
    },
    {
      "cell_type": "code",
      "execution_count": null,
      "metadata": {
        "id": "cEAttLkuR87l"
      },
      "outputs": [],
      "source": [
        "def encode_examples(df, limit=-1):\n",
        "    if limit > 0:\n",
        "        df = df.head(limit)\n",
        "\n",
        "    input_ids_list = []\n",
        "    token_type_ids_list = []\n",
        "    attention_mask_list = []\n",
        "    label_list = []\n",
        "\n",
        "    for _, row in df.iterrows():\n",
        "        example_dict, label = map_example_to_dict(row)\n",
        "        input_ids_list.append(example_dict['input_ids'])\n",
        "        token_type_ids_list.append(example_dict['token_type_ids'])\n",
        "        attention_mask_list.append(example_dict['attention_mask'])\n",
        "        label_list.append(label)\n",
        "\n",
        "    return (\n",
        "        tf.convert_to_tensor(input_ids_list),\n",
        "        tf.convert_to_tensor(token_type_ids_list),\n",
        "        tf.convert_to_tensor(attention_mask_list),\n",
        "        tf.convert_to_tensor(label_list)\n",
        "    )"
      ]
    },
    {
      "cell_type": "code",
      "execution_count": null,
      "metadata": {
        "id": "SQVBdw-L_uJP"
      },
      "outputs": [],
      "source": [
        "# Encode the dataset\n",
        "train_dataset = encode_examples(train)\n",
        "test_dataset = encode_examples(test)"
      ]
    },
    {
      "cell_type": "code",
      "execution_count": null,
      "metadata": {
        "id": "zU6-Y4N0_uXr",
        "colab": {
          "base_uri": "https://localhost:8080/"
        },
        "outputId": "7c7ca62b-b0c8-4797-e483-2fa4e939a9de"
      },
      "outputs": [
        {
          "output_type": "stream",
          "name": "stdout",
          "text": [
            "Input IDs shape: (30164, 512)\n",
            "Token Type IDs shape: (30164, 512)\n",
            "Attention Mask shape: (30164, 512)\n",
            "Labels shape: (30164, 4)\n"
          ]
        }
      ],
      "source": [
        "# Check the train shapes\n",
        "print(\"Input IDs shape:\", train_dataset[0].shape)\n",
        "print(\"Token Type IDs shape:\", train_dataset[1].shape)\n",
        "print(\"Attention Mask shape:\", train_dataset[2].shape)\n",
        "print(\"Labels shape:\", train_dataset[3].shape)"
      ]
    },
    {
      "cell_type": "code",
      "execution_count": null,
      "metadata": {
        "id": "cwSEJiRnFnTG",
        "colab": {
          "base_uri": "https://localhost:8080/"
        },
        "outputId": "99be2b1c-2b5d-468a-ca08-42d1708572e1"
      },
      "outputs": [
        {
          "output_type": "stream",
          "name": "stdout",
          "text": [
            "Input IDs shape: (7541, 512)\n",
            "Token Type IDs shape: (7541, 512)\n",
            "Attention Mask shape: (7541, 512)\n",
            "Labels shape: (7541, 4)\n"
          ]
        }
      ],
      "source": [
        "\n",
        "# Check the test shapes\n",
        "print(\"Input IDs shape:\", test_dataset[0].shape)\n",
        "print(\"Token Type IDs shape:\", test_dataset[1].shape)\n",
        "print(\"Attention Mask shape:\", test_dataset[2].shape)\n",
        "print(\"Labels shape:\", test_dataset[3].shape)"
      ]
    },
    {
      "cell_type": "code",
      "execution_count": null,
      "metadata": {
        "id": "9Ge71TiqFnVl",
        "colab": {
          "base_uri": "https://localhost:8080/",
          "height": 166,
          "referenced_widgets": [
            "4750265098534b23be5b6b9a1c137f17",
            "d50b123925e344aa9ec87b13b89668b5",
            "c12c6b35ebda42558f5b202eee171b6e",
            "c375c3a776dd4696993b845f357d3da5",
            "914bebf157b94a00ad2e7dcb1fe0c739",
            "91203440aedb414cb58f52a414f42b9c",
            "91b44e6270ba4e12a79f781d65ef11d9",
            "be23266eb7f340499f10bd7d45e61d57",
            "7784007eadb446bbba6beef4c90c3d5d",
            "bdd3cfaa803e4959b613e67b827e6d56",
            "867e36ba5049443183a727ae455c862a"
          ]
        },
        "outputId": "43dcd8ab-7823-48b0-a501-9fcbc4f6e7a1"
      },
      "outputs": [
        {
          "output_type": "display_data",
          "data": {
            "text/plain": [
              "model.safetensors:   0%|          | 0.00/672M [00:00<?, ?B/s]"
            ],
            "application/vnd.jupyter.widget-view+json": {
              "version_major": 2,
              "version_minor": 0,
              "model_id": "4750265098534b23be5b6b9a1c137f17"
            }
          },
          "metadata": {}
        },
        {
          "output_type": "stream",
          "name": "stderr",
          "text": [
            "All PyTorch model weights were used when initializing TFBertForSequenceClassification.\n",
            "\n",
            "Some weights or buffers of the TF 2.0 model TFBertForSequenceClassification were not initialized from the PyTorch model and are newly initialized: ['classifier.weight', 'classifier.bias']\n",
            "You should probably TRAIN this model on a down-stream task to be able to use it for predictions and inference.\n"
          ]
        }
      ],
      "source": [
        "# Assuming you have 4 classes in your dataset\n",
        "num_classes = 4\n",
        "\n",
        "# Model initialization\n",
        "model_name = 'bert-base-multilingual-uncased'  # Replace with your desired model\n",
        "model = TFBertForSequenceClassification.from_pretrained(model_name, num_labels=num_classes)\n",
        "\n",
        "# Choosing Adam optimizer\n",
        "learning_rate = 2e-5\n",
        "optimizer = tf.keras.optimizers.Adam(learning_rate=learning_rate, epsilon=1e-08)"
      ]
    },
    {
      "cell_type": "code",
      "execution_count": null,
      "metadata": {
        "id": "v9e9s7PZSJo3"
      },
      "outputs": [],
      "source": [
        "# Loss function: Categorical Crossentropy\n",
        "loss = tf.keras.losses.CategoricalCrossentropy(from_logits=True)\n",
        "metric = tf.keras.metrics.CategoricalAccuracy('accuracy')"
      ]
    },
    {
      "cell_type": "code",
      "execution_count": null,
      "metadata": {
        "id": "CiLoq5tHSMoX"
      },
      "outputs": [],
      "source": [
        "# Compile the model\n",
        "model.compile(optimizer=optimizer, loss=loss, metrics=[metric])"
      ]
    },
    {
      "cell_type": "code",
      "execution_count": null,
      "metadata": {
        "id": "aGXxuG-mFndH"
      },
      "outputs": [],
      "source": [
        "# Assuming you have the train_dataset from the previous code\n",
        "input_ids, token_type_ids, attention_mask, labels = train_dataset\n",
        "\n",
        "input_ids = input_ids[:]\n",
        "token_type_ids = token_type_ids[:]\n",
        "attention_mask = attention_mask[:]\n",
        "labels = labels[:]"
      ]
    },
    {
      "cell_type": "code",
      "execution_count": null,
      "metadata": {
        "id": "fvwl5wD6SRU8"
      },
      "outputs": [],
      "source": [
        "# Assuming you have the test_dataset from the previous code\n",
        "val_input_ids, val_token_type_ids, val_attention_mask, val_labels = test_dataset\n",
        "\n",
        "val_input_ids = val_input_ids[:]\n",
        "val_token_type_ids = val_token_type_ids[:]\n",
        "val_attention_mask = val_attention_mask[:]\n",
        "val_labels = val_labels[:]"
      ]
    },
    {
      "cell_type": "code",
      "execution_count": null,
      "metadata": {
        "id": "_NK68Du6M_t0"
      },
      "outputs": [],
      "source": []
    },
    {
      "cell_type": "code",
      "execution_count": null,
      "metadata": {
        "id": "4yVk0WBOM_xQ"
      },
      "outputs": [],
      "source": []
    },
    {
      "cell_type": "code",
      "execution_count": null,
      "metadata": {
        "id": "2wdDGMxlWeuw"
      },
      "outputs": [],
      "source": [
        "checkpoint_path = \"bert_training_checkpoint.ckpt\"\n",
        "checkpoint_callback = tf.keras.callbacks.ModelCheckpoint(\n",
        "    filepath=checkpoint_path,\n",
        "    save_weights_only=True,\n",
        "    save_best_only=True,\n",
        "    monitor='val_loss',\n",
        "    mode='min',\n",
        "    verbose=2\n",
        ")"
      ]
    },
    {
      "cell_type": "code",
      "execution_count": null,
      "metadata": {
        "colab": {
          "base_uri": "https://localhost:8080/"
        },
        "id": "3PpGwlxQ44Wl",
        "outputId": "8e6e6e35-1a02-41a3-940f-557ef8d9ab03"
      },
      "outputs": [
        {
          "name": "stdout",
          "output_type": "stream",
          "text": [
            "Epoch 1/4\n",
            "5028/5028 [==============================] - ETA: 0s - loss: 1.0303 - accuracy: 0.5979\n",
            "Epoch 1: val_loss improved from inf to 0.96868, saving model to bert_training_checkpoint.ckpt\n",
            "5028/5028 [==============================] - 4046s 793ms/step - loss: 1.0303 - accuracy: 0.5979 - val_loss: 0.9687 - val_accuracy: 0.6193\n",
            "Epoch 2/4\n",
            "5028/5028 [==============================] - ETA: 0s - loss: 0.9534 - accuracy: 0.6214\n",
            "Epoch 2: val_loss improved from 0.96868 to 0.94470, saving model to bert_training_checkpoint.ckpt\n",
            "5028/5028 [==============================] - 3980s 792ms/step - loss: 0.9534 - accuracy: 0.6214 - val_loss: 0.9447 - val_accuracy: 0.6276\n",
            "Epoch 3/4\n",
            "5028/5028 [==============================] - ETA: 0s - loss: 0.8949 - accuracy: 0.6493\n",
            "Epoch 3: val_loss did not improve from 0.94470\n",
            "5028/5028 [==============================] - 4027s 801ms/step - loss: 0.8949 - accuracy: 0.6493 - val_loss: 0.9473 - val_accuracy: 0.6374\n",
            "Epoch 4/4\n",
            "5028/5028 [==============================] - ETA: 0s - loss: 0.8297 - accuracy: 0.6774\n",
            "Epoch 4: val_loss did not improve from 0.94470\n",
            "5028/5028 [==============================] - 3969s 789ms/step - loss: 0.8297 - accuracy: 0.6774 - val_loss: 0.9603 - val_accuracy: 0.6303\n"
          ]
        }
      ],
      "source": [
        "# Train the model\n",
        "history = model.fit(\n",
        "    x={'input_ids': input_ids, 'token_type_ids': token_type_ids, 'attention_mask': attention_mask},\n",
        "    y=labels,\n",
        "    epochs=4,\n",
        "    batch_size=batch_size,\n",
        "    validation_data=(\n",
        "        {'input_ids': val_input_ids, 'token_type_ids': val_token_type_ids, 'attention_mask': val_attention_mask},\n",
        "        val_labels.numpy()\n",
        "    ),callbacks=[checkpoint_callback]\n",
        ")"
      ]
    },
    {
      "cell_type": "code",
      "execution_count": null,
      "metadata": {
        "id": "4oCKqZHlqx2p"
      },
      "outputs": [],
      "source": [
        "train_loss_history=[]\n",
        "train_accuracy_history=[]\n",
        "val_loss_history=[]\n",
        "val_accuracy_history=[]"
      ]
    },
    {
      "cell_type": "code",
      "execution_count": null,
      "metadata": {
        "id": "tJDTWOfGq-1g"
      },
      "outputs": [],
      "source": [
        "# Store metrics in lists\n",
        "train_loss_history.extend(history.history['loss'])\n",
        "train_accuracy_history.extend(history.history['accuracy'])\n",
        "val_loss_history.extend(history.history['val_loss'])\n",
        "val_accuracy_history.extend(history.history['val_accuracy'])"
      ]
    },
    {
      "cell_type": "code",
      "execution_count": null,
      "metadata": {
        "colab": {
          "base_uri": "https://localhost:8080/"
        },
        "id": "n7Bo0aLrMAsi",
        "outputId": "5a1b3d22-f809-44df-923c-b20f702aec9d"
      },
      "outputs": [
        {
          "name": "stdout",
          "output_type": "stream",
          "text": [
            "train_loss_history :  [1.0303319692611694, 0.9533922076225281, 0.8949195146560669, 0.8296893835067749]\n",
            "train_accuracy_history :  [0.5978649854660034, 0.6214361786842346, 0.6492507457733154, 0.6773637533187866]\n",
            "val_loss_history :  [0.9686756730079651, 0.9446980953216553, 0.9472882151603699, 0.9602656960487366]\n",
            "val_accuracy_history :  [0.6192812919616699, 0.6276355981826782, 0.6374486088752747, 0.630287766456604]\n"
          ]
        }
      ],
      "source": [
        "print(\"train_loss_history : \",train_loss_history)\n",
        "print(\"train_accuracy_history : \",train_accuracy_history)\n",
        "print(\"val_loss_history : \",val_loss_history)\n",
        "print(\"val_accuracy_history : \",val_accuracy_history)"
      ]
    },
    {
      "cell_type": "code",
      "execution_count": null,
      "metadata": {
        "colab": {
          "base_uri": "https://localhost:8080/",
          "height": 569
        },
        "id": "PLhx28HDq_RB",
        "outputId": "e9387e5d-79bb-41ba-d31c-776673b137f1"
      },
      "outputs": [
        {
          "data": {
            "image/png": "[encoded data removed]",
            "text/plain": [
              "<Figure size 1200x600 with 2 Axes>"
            ]
          },
          "metadata": {},
          "output_type": "display_data"
        }
      ],
      "source": [
        "#Plot training and validation accuracy\n",
        "plt.figure(figsize=(12, 6))\n",
        "\n",
        "plt.subplot(1, 2, 1)\n",
        "plt.plot(history.history['accuracy'], label='Train Accuracy')\n",
        "plt.plot(history.history['val_accuracy'], label='Validation Accuracy')\n",
        "plt.xlabel('Epoch')\n",
        "plt.ylabel('Accuracy')\n",
        "plt.legend()\n",
        "plt.title('Training and Validation Accuracy')\n",
        "\n",
        "# Plot training and validation loss\n",
        "plt.subplot(1, 2, 2)\n",
        "plt.plot(history.history['loss'], label='Train Loss')\n",
        "plt.plot(history.history['val_loss'], label='Validation Loss')\n",
        "plt.xlabel('Epoch')\n",
        "plt.ylabel('Loss')\n",
        "plt.legend()\n",
        "plt.title('Training and Validation Loss')\n",
        "\n",
        "plt.tight_layout()\n",
        "plt.show()"
      ]
    },
    {
      "cell_type": "code",
      "execution_count": null,
      "metadata": {
        "colab": {
          "base_uri": "https://localhost:8080/"
        },
        "id": "i6d196X_NJ2D",
        "outputId": "a21a83b6-b417-4e8a-808a-372c93af6eea"
      },
      "outputs": [
        {
          "name": "stdout",
          "output_type": "stream",
          "text": [
            "236/236 [==============================] - 317s 1s/step\n"
          ]
        }
      ],
      "source": [
        "predictions = model.predict(\n",
        "    x={'input_ids': val_input_ids, 'token_type_ids': val_token_type_ids, 'attention_mask': val_attention_mask}\n",
        ")"
      ]
    },
    {
      "cell_type": "code",
      "execution_count": null,
      "metadata": {
        "id": "ZEb9sO4eNMss"
      },
      "outputs": [],
      "source": [
        "# Convert predictions to labels\n",
        "predicted_labels = np.argmax(predictions.logits, axis=1)\n",
        "\n",
        "# Convert one-hot encoded true labels to categorical labels\n",
        "true_labels = np.argmax(val_labels.numpy(), axis=1)"
      ]
    },
    {
      "cell_type": "code",
      "execution_count": null,
      "metadata": {
        "colab": {
          "base_uri": "https://localhost:8080/",
          "height": 472
        },
        "id": "EEnkKhLHNXKb",
        "outputId": "e4e4ee2a-8e3e-470c-d4e0-6d2481a34d9a"
      },
      "outputs": [
        {
          "data": {
            "image/png": "[encoded data removed]",
            "text/plain": [
              "<Figure size 640x480 with 2 Axes>"
            ]
          },
          "metadata": {},
          "output_type": "display_data"
        }
      ],
      "source": [
        "# Calculate confusion matrix\n",
        "conf_matrix = confusion_matrix(true_labels, predicted_labels)# Display confusion matrix using ConfusionMatrixDisplay\n",
        "disp = ConfusionMatrixDisplay(conf_matrix, display_labels=['Positive','unknown_state','Negative','Mied_feelings'])\n",
        "disp.plot(cmap='viridis', values_format='d')\n",
        "\n",
        "plt.title('Confusion Matrix')\n",
        "plt.show()"
      ]
    },
    {
      "cell_type": "code",
      "execution_count": null,
      "metadata": {
        "colab": {
          "base_uri": "https://localhost:8080/"
        },
        "id": "GUSFnORdNXNw",
        "outputId": "19f8937d-8875-45e6-dfca-a32289228ac0"
      },
      "outputs": [
        {
          "name": "stdout",
          "output_type": "stream",
          "text": [
            "               precision    recall  f1-score   support\n",
            "\n",
            "     Positive       0.71      0.85      0.78      4411\n",
            "unknown_state       0.44      0.43      0.44      1319\n",
            "     Negative       0.43      0.41      0.42       929\n",
            "Mied_feelings       0.48      0.03      0.06       882\n",
            "\n",
            "     accuracy                           0.63      7541\n",
            "    macro avg       0.52      0.43      0.42      7541\n",
            " weighted avg       0.60      0.63      0.59      7541\n",
            "\n"
          ]
        }
      ],
      "source": [
        "# Calculate classification report\n",
        "class_report = classification_report(true_labels, predicted_labels, target_names=['Positive','unknown_state','Negative','Mied_feelings'])\n",
        "print(class_report)"
      ]
    },
    {
      "cell_type": "code",
      "execution_count": null,
      "metadata": {
        "id": "Z-BsUdmbPlCg"
      },
      "outputs": [],
      "source": [
        "# Assuming predicted_labels and true_labels are NumPy arrays\n",
        "data = {'Predicted_Labels': predicted_labels, 'True_Labels': true_labels}\n",
        "try1 = pd.DataFrame(data)\n",
        "\n",
        "# Save DataFrame to a CSV file\n",
        "try1.to_csv('/content/drive/MyDrive/predicted_vs_true_labels1.csv', index=False)"
      ]
    },
    {
      "cell_type": "code",
      "execution_count": null,
      "metadata": {
        "id": "mEHavCWPRDTH"
      },
      "outputs": [],
      "source": [
        "try1=pd.read_csv(\"/content/drive/MyDrive/predicted_vs_true_labels1.csv\")"
      ]
    },
    {
      "cell_type": "code",
      "execution_count": null,
      "metadata": {
        "colab": {
          "base_uri": "https://localhost:8080/",
          "height": 718
        },
        "id": "SzbIklF5Q150",
        "outputId": "1569a957-956e-48b4-92a8-28e0edef985b"
      },
      "outputs": [
        {
          "data": {
            "image/png": "[encoded data removed]",
            "text/plain": [
              "<Figure size 800x800 with 1 Axes>"
            ]
          },
          "metadata": {},
          "output_type": "display_data"
        }
      ],
      "source": [
        "# Assuming you have four labels\n",
        "labels = ['Positive', 'unknown_state', 'Negative', 'Mixed_feelings']\n",
        "\n",
        "# Calculate ROC-AUC score for each class\n",
        "roc_auc_scores = []\n",
        "for i in range(len(labels)):\n",
        "    fpr, tpr, _ = roc_curve(try1[\"True_Labels\"] == i, try1[\"Predicted_Labels\"] == i)\n",
        "    roc_auc = auc(fpr, tpr)\n",
        "    roc_auc_scores.append(roc_auc)\n",
        "\n",
        "# Plot ROC curve for each class\n",
        "plt.figure(figsize=(8, 8))\n",
        "for i in range(len(labels)):\n",
        "    fpr, tpr, _ = roc_curve(try1[\"True_Labels\"] == i, try1[\"Predicted_Labels\"] == i)\n",
        "    plt.plot(fpr, tpr, label=f'{labels[i]} (AUC = {roc_auc_scores[i]:.2f})')\n",
        "\n",
        "plt.plot([0, 1], [0, 1], color='navy', lw=2, linestyle='--')\n",
        "plt.xlabel('False Positive Rate')\n",
        "plt.ylabel('True Positive Rate')\n",
        "plt.title('Multiclass ROC Curve for Sentiment Classification')\n",
        "plt.legend(loc='lower right')\n",
        "plt.show()\n"
      ]
    },
    {
      "cell_type": "code",
      "execution_count": null,
      "metadata": {
        "id": "H9ibsnuwlahW"
      },
      "outputs": [],
      "source": [
        "# At some point, you decide to pause training and save the model's current state\n",
        "model.save_weights(\"/content/drive/MyDrive/bert_model_saved_at_pause.ckpt\")"
      ]
    },
    {
      "cell_type": "code",
      "execution_count": null,
      "metadata": {
        "colab": {
          "base_uri": "https://localhost:8080/"
        },
        "id": "4nGc9BI_FxV_",
        "outputId": "ef35c1a3-cdf8-435a-c973-fd862fa650fc"
      },
      "outputs": [
        {
          "name": "stdout",
          "output_type": "stream",
          "text": [
            "1/1 [==============================] - 8s 8s/step\n",
            "Positive\n"
          ]
        }
      ],
      "source": [
        "test_sentence = \"இது ஒரு நல்ல படம். நான் அதை விரும்பினேன், மீண்டும் பார்க்கிறேன்\"\n",
        "\n",
        "predict_input = tokenizer.encode(test_sentence,\n",
        "\n",
        "truncation=True,\n",
        "\n",
        "padding=True,\n",
        "\n",
        "return_tensors=\"tf\")\n",
        "\n",
        "tf_output = model.predict(predict_input)[0]\n",
        "tf_prediction = tf.nn.softmax(tf_output, axis=1)\n",
        "labels = ['Positive','unknown_state','Negative','Mied_feelings']\n",
        "label = tf.argmax(tf_prediction, axis=1)\n",
        "label = label.numpy()\n",
        "print(labels[label[0]])"
      ]
    },
    {
      "cell_type": "code",
      "execution_count": null,
      "metadata": {
        "id": "ovt3z_YeQlxI"
      },
      "outputs": [],
      "source": []
    },
    {
      "cell_type": "code",
      "execution_count": null,
      "metadata": {
        "id": "3iqjPi8iQlzs"
      },
      "outputs": [],
      "source": []
    },
    {
      "cell_type": "code",
      "execution_count": null,
      "metadata": {
        "id": "kMsx8_u4Ql16"
      },
      "outputs": [],
      "source": []
    },
    {
      "cell_type": "code",
      "execution_count": null,
      "metadata": {
        "id": "T3UjyYIhQl4Y"
      },
      "outputs": [],
      "source": []
    },
    {
      "cell_type": "code",
      "execution_count": null,
      "metadata": {
        "id": "W87Q7VFRQl6b"
      },
      "outputs": [],
      "source": []
    },
    {
      "cell_type": "code",
      "execution_count": null,
      "metadata": {
        "id": "HEbe9rn7Ql-E"
      },
      "outputs": [],
      "source": []
    },
    {
      "cell_type": "code",
      "execution_count": null,
      "metadata": {
        "id": "gd5iU_VANr_D"
      },
      "outputs": [],
      "source": [
        "checkpoint_path = \"bert_training_checkpoint.ckpt\"\n",
        "checkpoint_callback = tf.keras.callbacks.ModelCheckpoint(\n",
        "    filepath=checkpoint_path,\n",
        "    save_weights_only=True,\n",
        "    save_best_only=True,\n",
        "    monitor='val_loss',\n",
        "    mode='min',\n",
        "    verbose=2\n",
        ")"
      ]
    },
    {
      "cell_type": "code",
      "execution_count": null,
      "metadata": {
        "colab": {
          "base_uri": "https://localhost:8080/"
        },
        "id": "VyK9gfuSlakx",
        "outputId": "5ce1df21-1c80-47e0-9ca4-78c809661bd6"
      },
      "outputs": [
        {
          "data": {
            "text/plain": [
              "<tensorflow.python.checkpoint.checkpoint.CheckpointLoadStatus at 0x7e88ebe5bfa0>"
            ]
          },
          "execution_count": 22,
          "metadata": {},
          "output_type": "execute_result"
        }
      ],
      "source": [
        "# Later, when you want to resume training, load the saved model state\n",
        "model.load_weights(\"/content/drive/MyDrive/bert_model_saved_at_pause.ckpt\")"
      ]
    },
    {
      "cell_type": "code",
      "execution_count": null,
      "metadata": {
        "colab": {
          "base_uri": "https://localhost:8080/"
        },
        "id": "2Yajw7b-Wqyl",
        "outputId": "8ecc0edb-6ba9-4a5e-dde9-14fa3483707c"
      },
      "outputs": [
        {
          "name": "stdout",
          "output_type": "stream",
          "text": [
            "Epoch 1/3\n",
            "5028/5028 [==============================] - ETA: 0s - loss: 0.7554 - accuracy: 0.7127\n",
            "Epoch 1: val_loss improved from inf to 0.99737, saving model to bert_training_checkpoint.ckpt\n",
            "5028/5028 [==============================] - 4163s 810ms/step - loss: 0.7554 - accuracy: 0.7127 - val_loss: 0.9974 - val_accuracy: 0.6429\n",
            "Epoch 2/3\n",
            "5028/5028 [==============================] - ETA: 0s - loss: 0.6672 - accuracy: 0.7489\n",
            "Epoch 2: val_loss did not improve from 0.99737\n",
            "5028/5028 [==============================] - 4054s 806ms/step - loss: 0.6672 - accuracy: 0.7489 - val_loss: 1.0838 - val_accuracy: 0.6170\n",
            "Epoch 3/3\n",
            "5028/5028 [==============================] - ETA: 0s - loss: 0.5891 - accuracy: 0.7815\n",
            "Epoch 3: val_loss did not improve from 0.99737\n",
            "5028/5028 [==============================] - 3993s 794ms/step - loss: 0.5891 - accuracy: 0.7815 - val_loss: 1.0495 - val_accuracy: 0.6239\n"
          ]
        }
      ],
      "source": [
        "# Train the model\n",
        "history1 = model.fit(\n",
        "    x={'input_ids': input_ids, 'token_type_ids': token_type_ids, 'attention_mask': attention_mask},\n",
        "    y=labels,\n",
        "    epochs=3,\n",
        "    batch_size=batch_size,\n",
        "    validation_data=(\n",
        "        {'input_ids': val_input_ids, 'token_type_ids': val_token_type_ids, 'attention_mask': val_attention_mask},\n",
        "        val_labels.numpy()\n",
        "    ),callbacks=[checkpoint_callback]\n",
        ")"
      ]
    },
    {
      "cell_type": "code",
      "execution_count": null,
      "metadata": {
        "id": "IjdIpGObqpnc"
      },
      "outputs": [],
      "source": [
        "train_loss_history=[]\n",
        "train_accuracy_history=[]\n",
        "val_loss_history=[]\n",
        "val_accuracy_history=[]\n",
        "# Store metrics in lists\n",
        "train_loss_history.extend(history1.history['loss'])\n",
        "train_accuracy_history.extend(history1.history['accuracy'])\n",
        "val_loss_history.extend(history1.history['val_loss'])\n",
        "val_accuracy_history.extend(history1.history['val_accuracy'])"
      ]
    },
    {
      "cell_type": "code",
      "execution_count": null,
      "metadata": {
        "colab": {
          "base_uri": "https://localhost:8080/"
        },
        "id": "E-fy1c0eqppt",
        "outputId": "e8166ca4-4ab5-443e-a01a-2bf217e66957"
      },
      "outputs": [
        {
          "name": "stdout",
          "output_type": "stream",
          "text": [
            "train_loss_history :  [0.755359947681427, 0.6671936511993408, 0.5891369581222534]\n",
            "train_accuracy_history :  [0.7126707434654236, 0.7489391565322876, 0.7814613580703735]\n",
            "val_loss_history :  [0.9973688721656799, 1.0838232040405273, 1.0495234727859497]\n",
            "val_accuracy_history :  [0.6428855657577515, 0.6170269250869751, 0.62392258644104]\n"
          ]
        }
      ],
      "source": [
        "print(\"train_loss_history : \",train_loss_history)\n",
        "print(\"train_accuracy_history : \",train_accuracy_history)\n",
        "print(\"val_loss_history : \",val_loss_history)\n",
        "print(\"val_accuracy_history : \",val_accuracy_history)"
      ]
    },
    {
      "cell_type": "code",
      "execution_count": null,
      "metadata": {
        "id": "F4B0y_C-qpta"
      },
      "outputs": [],
      "source": [
        "# At some point, you decide to pause training and save the model's current state\n",
        "model.save_weights(\"/content/drive/MyDrive/bert_model_saved_at_pause1.ckpt\")"
      ]
    },
    {
      "cell_type": "code",
      "execution_count": null,
      "metadata": {
        "id": "ReDjVGDeYK3M"
      },
      "outputs": [],
      "source": []
    },
    {
      "cell_type": "code",
      "execution_count": null,
      "metadata": {
        "colab": {
          "base_uri": "https://localhost:8080/"
        },
        "id": "N29-3cbWU29j",
        "outputId": "6f2e8ed0-5444-4bab-d47a-8ebd4f2810c5"
      },
      "outputs": [
        {
          "output_type": "execute_result",
          "data": {
            "text/plain": [
              "<tensorflow.python.checkpoint.checkpoint.CheckpointLoadStatus at 0x7ef54e7c6c50>"
            ]
          },
          "metadata": {},
          "execution_count": 20
        }
      ],
      "source": [
        "# Later, when you want to resume training, load the saved model state\n",
        "model.load_weights(\"/content/drive/MyDrive/bert_model_saved_at_pause1.ckpt\")"
      ]
    },
    {
      "cell_type": "code",
      "execution_count": null,
      "metadata": {
        "colab": {
          "base_uri": "https://localhost:8080/"
        },
        "id": "64MLNEbLaCke",
        "outputId": "0b2c04b6-2f15-44ad-82bd-654700af33a7"
      },
      "outputs": [
        {
          "output_type": "stream",
          "name": "stdout",
          "text": [
            "Epoch 1/2\n",
            "5028/5028 [==============================] - ETA: 0s - loss: 0.5146 - accuracy: 0.8136\n",
            "Epoch 1: val_loss improved from inf to 1.14065, saving model to bert_training_checkpoint.ckpt\n",
            "5028/5028 [==============================] - 4354s 823ms/step - loss: 0.5146 - accuracy: 0.8136 - val_loss: 1.1407 - val_accuracy: 0.6439\n",
            "Epoch 2/2\n",
            "5028/5028 [==============================] - ETA: 0s - loss: 0.4512 - accuracy: 0.8360\n",
            "Epoch 2: val_loss did not improve from 1.14065\n",
            "5028/5028 [==============================] - 4122s 820ms/step - loss: 0.4512 - accuracy: 0.8360 - val_loss: 1.2575 - val_accuracy: 0.6234\n"
          ]
        }
      ],
      "source": [
        "# Train the model\n",
        "history2 = model.fit(\n",
        "    x={'input_ids': input_ids, 'token_type_ids': token_type_ids, 'attention_mask': attention_mask},\n",
        "    y=labels,\n",
        "    epochs=2,\n",
        "    batch_size=batch_size,\n",
        "    validation_data=(\n",
        "        {'input_ids': val_input_ids, 'token_type_ids': val_token_type_ids, 'attention_mask': val_attention_mask},\n",
        "        val_labels.numpy()\n",
        "    ),callbacks=[checkpoint_callback]\n",
        ")"
      ]
    },
    {
      "cell_type": "code",
      "source": [
        "train_loss_history=[1.0303319692611694, 0.9533922076225281, 0.8949195146560669, 0.8296893835067749,0.755359947681427, 0.6671936511993408, 0.5891369581222534]\n",
        "train_accuracy_history=[0.5978649854660034, 0.6214361786842346, 0.6492507457733154, 0.6773637533187866,0.7126707434654236, 0.7489391565322876, 0.7814613580703735]\n",
        "val_loss_history=[0.9686756730079651, 0.9446980953216553, 0.9472882151603699, 0.9602656960487366,0.9973688721656799, 1.0838232040405273, 1.0495234727859497]\n",
        "val_accuracy_history=[0.6192812919616699, 0.6276355981826782, 0.6374486088752747, 0.630287766456604,0.6428855657577515, 0.6170269250869751, 0.62392258644104]"
      ],
      "metadata": {
        "id": "SbK6j-aNC_zL"
      },
      "execution_count": null,
      "outputs": []
    },
    {
      "cell_type": "code",
      "execution_count": null,
      "metadata": {
        "id": "qVB5MEz0U3CL"
      },
      "outputs": [],
      "source": [
        "# Store metrics in lists\n",
        "train_loss_history.extend(history2.history['loss'])\n",
        "train_accuracy_history.extend(history2.history['accuracy'])\n",
        "val_loss_history.extend(history2.history['val_loss'])\n",
        "val_accuracy_history.extend(history2.history['val_accuracy'])"
      ]
    },
    {
      "cell_type": "code",
      "execution_count": null,
      "metadata": {
        "id": "7J3DqPZ2U3Ey",
        "colab": {
          "base_uri": "https://localhost:8080/"
        },
        "outputId": "9f57f1b2-9fc7-43e3-d10f-75465b2d6d98"
      },
      "outputs": [
        {
          "output_type": "stream",
          "name": "stdout",
          "text": [
            "train_loss_history :  [1.0303319692611694, 0.9533922076225281, 0.8949195146560669, 0.8296893835067749, 0.755359947681427, 0.6671936511993408, 0.5891369581222534, 0.5145832896232605, 0.4512036442756653]\n",
            "train_accuracy_history :  [0.5978649854660034, 0.6214361786842346, 0.6492507457733154, 0.6773637533187866, 0.7126707434654236, 0.7489391565322876, 0.7814613580703735, 0.8135857582092285, 0.8360297083854675]\n",
            "val_loss_history :  [0.9686756730079651, 0.9446980953216553, 0.9472882151603699, 0.9602656960487366, 0.9973688721656799, 1.0838232040405273, 1.0495234727859497, 1.1406540870666504, 1.2575371265411377]\n",
            "val_accuracy_history :  [0.6192812919616699, 0.6276355981826782, 0.6374486088752747, 0.630287766456604, 0.6428855657577515, 0.6170269250869751, 0.62392258644104, 0.6439464092254639, 0.6233921051025391]\n"
          ]
        }
      ],
      "source": [
        "print(\"train_loss_history : \",train_loss_history)\n",
        "print(\"train_accuracy_history : \",train_accuracy_history)\n",
        "print(\"val_loss_history : \",val_loss_history)\n",
        "print(\"val_accuracy_history : \",val_accuracy_history)"
      ]
    },
    {
      "cell_type": "code",
      "execution_count": null,
      "metadata": {
        "id": "M2G31wE1U3HB",
        "colab": {
          "base_uri": "https://localhost:8080/",
          "height": 337
        },
        "outputId": "62af52ca-8e24-4979-ea54-48fec4a86dde"
      },
      "outputs": [
        {
          "output_type": "display_data",
          "data": {
            "text/plain": [
              "<Figure size 1200x600 with 2 Axes>"
            ],
            "image/png": "[encoded data removed]"
          },
          "metadata": {}
        }
      ],
      "source": [
        "#Plot training and validation accuracy\n",
        "import matplotlib.pyplot as plt\n",
        "plt.figure(figsize=(12, 6))\n",
        "\n",
        "plt.subplot(1, 2, 1)\n",
        "plt.plot(train_accuracy_history, label='Train Accuracy')\n",
        "plt.plot(val_accuracy_history, label='Validation Accuracy')\n",
        "plt.xlabel('Epoch')\n",
        "plt.ylabel('Accuracy')\n",
        "plt.legend()\n",
        "plt.title('Training and Validation Accuracy')\n",
        "\n",
        "# Plot training and validation loss\n",
        "plt.subplot(1, 2, 2)\n",
        "plt.plot(train_loss_history, label='Train Loss')\n",
        "plt.plot(val_loss_history, label='Validation Loss')\n",
        "plt.xlabel('Epoch')\n",
        "plt.ylabel('Loss')\n",
        "plt.legend()\n",
        "plt.title('Training and Validation Loss')\n",
        "\n",
        "plt.tight_layout()\n",
        "plt.show()"
      ]
    },
    {
      "cell_type": "code",
      "execution_count": null,
      "metadata": {
        "id": "jwGm7LPtU3JI",
        "colab": {
          "base_uri": "https://localhost:8080/"
        },
        "outputId": "f4fa45e6-8857-4dba-dcc3-2b197d91a2fa"
      },
      "outputs": [
        {
          "output_type": "stream",
          "name": "stdout",
          "text": [
            "236/236 [==============================] - 323s 1s/step\n"
          ]
        }
      ],
      "source": [
        "predictions = model.predict(\n",
        "    x={'input_ids': val_input_ids, 'attention_mask': val_attention_mask}\n",
        ")"
      ]
    },
    {
      "cell_type": "code",
      "source": [
        "import numpy as np\n",
        "from sklearn.metrics import classification_report, confusion_matrix,ConfusionMatrixDisplay,roc_curve, auc,roc_auc_score"
      ],
      "metadata": {
        "id": "UWxEnsHsE3cM"
      },
      "execution_count": null,
      "outputs": []
    },
    {
      "cell_type": "code",
      "execution_count": null,
      "metadata": {
        "id": "YJC98fZIU3Ll"
      },
      "outputs": [],
      "source": [
        "# Convert predictions to labels\n",
        "predicted_labels = np.argmax(predictions.logits, axis=1)\n",
        "\n",
        "# Convert one-hot encoded true labels to categorical labels\n",
        "true_labels = np.argmax(val_labels.numpy(), axis=1)"
      ]
    },
    {
      "cell_type": "code",
      "execution_count": null,
      "metadata": {
        "id": "sFytjiScU3N_",
        "colab": {
          "base_uri": "https://localhost:8080/",
          "height": 472
        },
        "outputId": "7442baa3-cca6-4c1c-f4a2-3654750ae775"
      },
      "outputs": [
        {
          "output_type": "display_data",
          "data": {
            "text/plain": [
              "<Figure size 640x480 with 2 Axes>"
            ],
            "image/png": "[encoded data removed]"
          },
          "metadata": {}
        }
      ],
      "source": [
        "# Calculate confusion matrix\n",
        "conf_matrix = confusion_matrix(true_labels, predicted_labels)# Display confusion matrix using ConfusionMatrixDisplay\n",
        "disp = ConfusionMatrixDisplay(conf_matrix, display_labels=['Positive','unknown_state','Negative','Mied_feelings'])\n",
        "disp.plot(cmap='viridis', values_format='d')\n",
        "\n",
        "plt.title('Confusion Matrix')\n",
        "plt.show()"
      ]
    },
    {
      "cell_type": "code",
      "execution_count": null,
      "metadata": {
        "id": "GeeEpbGFU3Qk",
        "colab": {
          "base_uri": "https://localhost:8080/"
        },
        "outputId": "e4e68202-45c4-486a-fcf8-73173f269647"
      },
      "outputs": [
        {
          "output_type": "stream",
          "name": "stdout",
          "text": [
            "               precision    recall  f1-score   support\n",
            "\n",
            "     Positive       0.79      0.75      0.77      4411\n",
            "unknown_state       0.49      0.46      0.47      1319\n",
            "     Negative       0.39      0.54      0.45       929\n",
            "Mied_feelings       0.34      0.32      0.33       882\n",
            "\n",
            "     accuracy                           0.62      7541\n",
            "    macro avg       0.50      0.52      0.51      7541\n",
            " weighted avg       0.63      0.62      0.63      7541\n",
            "\n"
          ]
        }
      ],
      "source": [
        "# Calculate classification report\n",
        "class_report = classification_report(true_labels, predicted_labels, target_names=['Positive','unknown_state','Negative','Mied_feelings'])\n",
        "print(class_report)"
      ]
    },
    {
      "cell_type": "code",
      "execution_count": null,
      "metadata": {
        "id": "-9-JQr2nU3UH",
        "colab": {
          "base_uri": "https://localhost:8080/",
          "height": 671
        },
        "outputId": "923741d9-e1db-493c-d309-9e883207aedc"
      },
      "outputs": [
        {
          "output_type": "display_data",
          "data": {
            "text/plain": [
              "<Figure size 800x800 with 1 Axes>"
            ],
            "image/png": "[encoded data removed]"
          },
          "metadata": {}
        }
      ],
      "source": [
        "# Assuming you have four labels\n",
        "labels = ['Positive', 'unknown_state', 'Negative', 'Mixed_feelings']\n",
        "\n",
        "# Calculate ROC-AUC score for each class\n",
        "roc_auc_scores = []\n",
        "for i in range(len(labels)):\n",
        "    fpr, tpr, _ = roc_curve(true_labels == i,predicted_labels == i)\n",
        "    roc_auc = auc(fpr, tpr)\n",
        "    roc_auc_scores.append(roc_auc)\n",
        "\n",
        "# Plot ROC curve for each class\n",
        "plt.figure(figsize=(8, 8))\n",
        "for i in range(len(labels)):\n",
        "    fpr, tpr, _ = roc_curve(true_labels == i,predicted_labels == i)\n",
        "    plt.plot(fpr, tpr, label=f'{labels[i]} (AUC = {roc_auc_scores[i]:.2f})')\n",
        "\n",
        "plt.plot([0, 1], [0, 1], color='navy', lw=2, linestyle='--')\n",
        "plt.xlabel('False Positive Rate')\n",
        "plt.ylabel('True Positive Rate')\n",
        "plt.title('Multiclass ROC Curve for Sentiment Classification [BERT]')\n",
        "plt.legend(loc='lower right')\n",
        "plt.show()"
      ]
    },
    {
      "cell_type": "code",
      "source": [
        "# At some point, you decide to pause training and save the model's current state\n",
        "model.save_weights(\"content/drive/MyDrive/bert_model_saved_at_pause1.ckpt\")"
      ],
      "metadata": {
        "id": "WQnihMRTFiOv"
      },
      "execution_count": null,
      "outputs": []
    },
    {
      "cell_type": "code",
      "source": [],
      "metadata": {
        "id": "N9nmKqjOFiSV"
      },
      "execution_count": null,
      "outputs": []
    }
  ],
  "metadata": {
    "accelerator": "GPU",
    "colab": {
      "provenance": []
    },
    "kernelspec": {
      "display_name": "Python 3",
      "name": "python3"
    },
    "language_info": {
      "name": "python"
    },
    "widgets": {
      "application/vnd.jupyter.widget-state+json": {
        "4eb9e25e3e3e4a86a84a809a4a78a230": {
          "model_module": "@jupyter-widgets/controls",
          "model_name": "HBoxModel",
          "model_module_version": "1.5.0",
          "state": {
            "_dom_classes": [],
            "_model_module": "@jupyter-widgets/controls",
            "_model_module_version": "1.5.0",
            "_model_name": "HBoxModel",
            "_view_count": null,
            "_view_module": "@jupyter-widgets/controls",
            "_view_module_version": "1.5.0",
            "_view_name": "HBoxView",
            "box_style": "",
            "children": [
              "IPY_MODEL_b522b9c5f5a0481292e947f79905206a",
              "IPY_MODEL_d36095bed4d64d99a2d28af5dad2633d",
              "IPY_MODEL_2644481971ee438596662246ef771a03"
            ],
            "layout": "IPY_MODEL_246c4fcddbcc4a83b819fc4aec4f1458"
          }
        },
        "b522b9c5f5a0481292e947f79905206a": {
          "model_module": "@jupyter-widgets/controls",
          "model_name": "HTMLModel",
          "model_module_version": "1.5.0",
          "state": {
            "_dom_classes": [],
            "_model_module": "@jupyter-widgets/controls",
            "_model_module_version": "1.5.0",
            "_model_name": "HTMLModel",
            "_view_count": null,
            "_view_module": "@jupyter-widgets/controls",
            "_view_module_version": "1.5.0",
            "_view_name": "HTMLView",
            "description": "",
            "description_tooltip": null,
            "layout": "IPY_MODEL_183365a21da044bfbaf4021894186b67",
            "placeholder": "​",
            "style": "IPY_MODEL_28cf2a2db41f4ee181e685bc26bf4b3e",
            "value": "tokenizer_config.json: 100%"
          }
        },
        "d36095bed4d64d99a2d28af5dad2633d": {
          "model_module": "@jupyter-widgets/controls",
          "model_name": "FloatProgressModel",
          "model_module_version": "1.5.0",
          "state": {
            "_dom_classes": [],
            "_model_module": "@jupyter-widgets/controls",
            "_model_module_version": "1.5.0",
            "_model_name": "FloatProgressModel",
            "_view_count": null,
            "_view_module": "@jupyter-widgets/controls",
            "_view_module_version": "1.5.0",
            "_view_name": "ProgressView",
            "bar_style": "success",
            "description": "",
            "description_tooltip": null,
            "layout": "IPY_MODEL_83dbb9f7f9454125bfb936d7b1ae989e",
            "max": 28,
            "min": 0,
            "orientation": "horizontal",
            "style": "IPY_MODEL_ea8b6ea4eeb146b3b57aec55b86f24c7",
            "value": 28
          }
        },
        "2644481971ee438596662246ef771a03": {
          "model_module": "@jupyter-widgets/controls",
          "model_name": "HTMLModel",
          "model_module_version": "1.5.0",
          "state": {
            "_dom_classes": [],
            "_model_module": "@jupyter-widgets/controls",
            "_model_module_version": "1.5.0",
            "_model_name": "HTMLModel",
            "_view_count": null,
            "_view_module": "@jupyter-widgets/controls",
            "_view_module_version": "1.5.0",
            "_view_name": "HTMLView",
            "description": "",
            "description_tooltip": null,
            "layout": "IPY_MODEL_482844fe90ef4193bfc000ea124354f1",
            "placeholder": "​",
            "style": "IPY_MODEL_262ea43e52e74f64ae49097167f5a283",
            "value": " 28.0/28.0 [00:00&lt;00:00, 2.04kB/s]"
          }
        },
        "246c4fcddbcc4a83b819fc4aec4f1458": {
          "model_module": "@jupyter-widgets/base",
          "model_name": "LayoutModel",
          "model_module_version": "1.2.0",
          "state": {
            "_model_module": "@jupyter-widgets/base",
            "_model_module_version": "1.2.0",
            "_model_name": "LayoutModel",
            "_view_count": null,
            "_view_module": "@jupyter-widgets/base",
            "_view_module_version": "1.2.0",
            "_view_name": "LayoutView",
            "align_content": null,
            "align_items": null,
            "align_self": null,
            "border": null,
            "bottom": null,
            "display": null,
            "flex": null,
            "flex_flow": null,
            "grid_area": null,
            "grid_auto_columns": null,
            "grid_auto_flow": null,
            "grid_auto_rows": null,
            "grid_column": null,
            "grid_gap": null,
            "grid_row": null,
            "grid_template_areas": null,
            "grid_template_columns": null,
            "grid_template_rows": null,
            "height": null,
            "justify_content": null,
            "justify_items": null,
            "left": null,
            "margin": null,
            "max_height": null,
            "max_width": null,
            "min_height": null,
            "min_width": null,
            "object_fit": null,
            "object_position": null,
            "order": null,
            "overflow": null,
            "overflow_x": null,
            "overflow_y": null,
            "padding": null,
            "right": null,
            "top": null,
            "visibility": null,
            "width": null
          }
        },
        "183365a21da044bfbaf4021894186b67": {
          "model_module": "@jupyter-widgets/base",
          "model_name": "LayoutModel",
          "model_module_version": "1.2.0",
          "state": {
            "_model_module": "@jupyter-widgets/base",
            "_model_module_version": "1.2.0",
            "_model_name": "LayoutModel",
            "_view_count": null,
            "_view_module": "@jupyter-widgets/base",
            "_view_module_version": "1.2.0",
            "_view_name": "LayoutView",
            "align_content": null,
            "align_items": null,
            "align_self": null,
            "border": null,
            "bottom": null,
            "display": null,
            "flex": null,
            "flex_flow": null,
            "grid_area": null,
            "grid_auto_columns": null,
            "grid_auto_flow": null,
            "grid_auto_rows": null,
            "grid_column": null,
            "grid_gap": null,
            "grid_row": null,
            "grid_template_areas": null,
            "grid_template_columns": null,
            "grid_template_rows": null,
            "height": null,
            "justify_content": null,
            "justify_items": null,
            "left": null,
            "margin": null,
            "max_height": null,
            "max_width": null,
            "min_height": null,
            "min_width": null,
            "object_fit": null,
            "object_position": null,
            "order": null,
            "overflow": null,
            "overflow_x": null,
            "overflow_y": null,
            "padding": null,
            "right": null,
            "top": null,
            "visibility": null,
            "width": null
          }
        },
        "28cf2a2db41f4ee181e685bc26bf4b3e": {
          "model_module": "@jupyter-widgets/controls",
          "model_name": "DescriptionStyleModel",
          "model_module_version": "1.5.0",
          "state": {
            "_model_module": "@jupyter-widgets/controls",
            "_model_module_version": "1.5.0",
            "_model_name": "DescriptionStyleModel",
            "_view_count": null,
            "_view_module": "@jupyter-widgets/base",
            "_view_module_version": "1.2.0",
            "_view_name": "StyleView",
            "description_width": ""
          }
        },
        "83dbb9f7f9454125bfb936d7b1ae989e": {
          "model_module": "@jupyter-widgets/base",
          "model_name": "LayoutModel",
          "model_module_version": "1.2.0",
          "state": {
            "_model_module": "@jupyter-widgets/base",
            "_model_module_version": "1.2.0",
            "_model_name": "LayoutModel",
            "_view_count": null,
            "_view_module": "@jupyter-widgets/base",
            "_view_module_version": "1.2.0",
            "_view_name": "LayoutView",
            "align_content": null,
            "align_items": null,
            "align_self": null,
            "border": null,
            "bottom": null,
            "display": null,
            "flex": null,
            "flex_flow": null,
            "grid_area": null,
            "grid_auto_columns": null,
            "grid_auto_flow": null,
            "grid_auto_rows": null,
            "grid_column": null,
            "grid_gap": null,
            "grid_row": null,
            "grid_template_areas": null,
            "grid_template_columns": null,
            "grid_template_rows": null,
            "height": null,
            "justify_content": null,
            "justify_items": null,
            "left": null,
            "margin": null,
            "max_height": null,
            "max_width": null,
            "min_height": null,
            "min_width": null,
            "object_fit": null,
            "object_position": null,
            "order": null,
            "overflow": null,
            "overflow_x": null,
            "overflow_y": null,
            "padding": null,
            "right": null,
            "top": null,
            "visibility": null,
            "width": null
          }
        },
        "ea8b6ea4eeb146b3b57aec55b86f24c7": {
          "model_module": "@jupyter-widgets/controls",
          "model_name": "ProgressStyleModel",
          "model_module_version": "1.5.0",
          "state": {
            "_model_module": "@jupyter-widgets/controls",
            "_model_module_version": "1.5.0",
            "_model_name": "ProgressStyleModel",
            "_view_count": null,
            "_view_module": "@jupyter-widgets/base",
            "_view_module_version": "1.2.0",
            "_view_name": "StyleView",
            "bar_color": null,
            "description_width": ""
          }
        },
        "482844fe90ef4193bfc000ea124354f1": {
          "model_module": "@jupyter-widgets/base",
          "model_name": "LayoutModel",
          "model_module_version": "1.2.0",
          "state": {
            "_model_module": "@jupyter-widgets/base",
            "_model_module_version": "1.2.0",
            "_model_name": "LayoutModel",
            "_view_count": null,
            "_view_module": "@jupyter-widgets/base",
            "_view_module_version": "1.2.0",
            "_view_name": "LayoutView",
            "align_content": null,
            "align_items": null,
            "align_self": null,
            "border": null,
            "bottom": null,
            "display": null,
            "flex": null,
            "flex_flow": null,
            "grid_area": null,
            "grid_auto_columns": null,
            "grid_auto_flow": null,
            "grid_auto_rows": null,
            "grid_column": null,
            "grid_gap": null,
            "grid_row": null,
            "grid_template_areas": null,
            "grid_template_columns": null,
            "grid_template_rows": null,
            "height": null,
            "justify_content": null,
            "justify_items": null,
            "left": null,
            "margin": null,
            "max_height": null,
            "max_width": null,
            "min_height": null,
            "min_width": null,
            "object_fit": null,
            "object_position": null,
            "order": null,
            "overflow": null,
            "overflow_x": null,
            "overflow_y": null,
            "padding": null,
            "right": null,
            "top": null,
            "visibility": null,
            "width": null
          }
        },
        "262ea43e52e74f64ae49097167f5a283": {
          "model_module": "@jupyter-widgets/controls",
          "model_name": "DescriptionStyleModel",
          "model_module_version": "1.5.0",
          "state": {
            "_model_module": "@jupyter-widgets/controls",
            "_model_module_version": "1.5.0",
            "_model_name": "DescriptionStyleModel",
            "_view_count": null,
            "_view_module": "@jupyter-widgets/base",
            "_view_module_version": "1.2.0",
            "_view_name": "StyleView",
            "description_width": ""
          }
        },
        "651246b513d149b79c59f3c991b6f051": {
          "model_module": "@jupyter-widgets/controls",
          "model_name": "HBoxModel",
          "model_module_version": "1.5.0",
          "state": {
            "_dom_classes": [],
            "_model_module": "@jupyter-widgets/controls",
            "_model_module_version": "1.5.0",
            "_model_name": "HBoxModel",
            "_view_count": null,
            "_view_module": "@jupyter-widgets/controls",
            "_view_module_version": "1.5.0",
            "_view_name": "HBoxView",
            "box_style": "",
            "children": [
              "IPY_MODEL_946e4b7f1d5d4619982da2de3e7fe80a",
              "IPY_MODEL_e03f26b0b07f43afbcc776e371ec98ba",
              "IPY_MODEL_0838912a075f4bcd8c09e92103062234"
            ],
            "layout": "IPY_MODEL_512baac316824b92bb8d079ca2700b3d"
          }
        },
        "946e4b7f1d5d4619982da2de3e7fe80a": {
          "model_module": "@jupyter-widgets/controls",
          "model_name": "HTMLModel",
          "model_module_version": "1.5.0",
          "state": {
            "_dom_classes": [],
            "_model_module": "@jupyter-widgets/controls",
            "_model_module_version": "1.5.0",
            "_model_name": "HTMLModel",
            "_view_count": null,
            "_view_module": "@jupyter-widgets/controls",
            "_view_module_version": "1.5.0",
            "_view_name": "HTMLView",
            "description": "",
            "description_tooltip": null,
            "layout": "IPY_MODEL_c5b36f00c97a4c96bd6b70631c3aa451",
            "placeholder": "​",
            "style": "IPY_MODEL_788495f273b244e9af402f3b3f0cec14",
            "value": "config.json: 100%"
          }
        },
        "e03f26b0b07f43afbcc776e371ec98ba": {
          "model_module": "@jupyter-widgets/controls",
          "model_name": "FloatProgressModel",
          "model_module_version": "1.5.0",
          "state": {
            "_dom_classes": [],
            "_model_module": "@jupyter-widgets/controls",
            "_model_module_version": "1.5.0",
            "_model_name": "FloatProgressModel",
            "_view_count": null,
            "_view_module": "@jupyter-widgets/controls",
            "_view_module_version": "1.5.0",
            "_view_name": "ProgressView",
            "bar_style": "success",
            "description": "",
            "description_tooltip": null,
            "layout": "IPY_MODEL_8a715606f7ae47929cb19fa3bf5aa721",
            "max": 625,
            "min": 0,
            "orientation": "horizontal",
            "style": "IPY_MODEL_cdfc3e02839e4e9d80de21c9e3a65a66",
            "value": 625
          }
        },
        "0838912a075f4bcd8c09e92103062234": {
          "model_module": "@jupyter-widgets/controls",
          "model_name": "HTMLModel",
          "model_module_version": "1.5.0",
          "state": {
            "_dom_classes": [],
            "_model_module": "@jupyter-widgets/controls",
            "_model_module_version": "1.5.0",
            "_model_name": "HTMLModel",
            "_view_count": null,
            "_view_module": "@jupyter-widgets/controls",
            "_view_module_version": "1.5.0",
            "_view_name": "HTMLView",
            "description": "",
            "description_tooltip": null,
            "layout": "IPY_MODEL_b3d269a411294139a45a64b058c09e23",
            "placeholder": "​",
            "style": "IPY_MODEL_e7bff6788d7d4bfcb2a41ea21ab200f7",
            "value": " 625/625 [00:00&lt;00:00, 43.7kB/s]"
          }
        },
        "512baac316824b92bb8d079ca2700b3d": {
          "model_module": "@jupyter-widgets/base",
          "model_name": "LayoutModel",
          "model_module_version": "1.2.0",
          "state": {
            "_model_module": "@jupyter-widgets/base",
            "_model_module_version": "1.2.0",
            "_model_name": "LayoutModel",
            "_view_count": null,
            "_view_module": "@jupyter-widgets/base",
            "_view_module_version": "1.2.0",
            "_view_name": "LayoutView",
            "align_content": null,
            "align_items": null,
            "align_self": null,
            "border": null,
            "bottom": null,
            "display": null,
            "flex": null,
            "flex_flow": null,
            "grid_area": null,
            "grid_auto_columns": null,
            "grid_auto_flow": null,
            "grid_auto_rows": null,
            "grid_column": null,
            "grid_gap": null,
            "grid_row": null,
            "grid_template_areas": null,
            "grid_template_columns": null,
            "grid_template_rows": null,
            "height": null,
            "justify_content": null,
            "justify_items": null,
            "left": null,
            "margin": null,
            "max_height": null,
            "max_width": null,
            "min_height": null,
            "min_width": null,
            "object_fit": null,
            "object_position": null,
            "order": null,
            "overflow": null,
            "overflow_x": null,
            "overflow_y": null,
            "padding": null,
            "right": null,
            "top": null,
            "visibility": null,
            "width": null
          }
        },
        "c5b36f00c97a4c96bd6b70631c3aa451": {
          "model_module": "@jupyter-widgets/base",
          "model_name": "LayoutModel",
          "model_module_version": "1.2.0",
          "state": {
            "_model_module": "@jupyter-widgets/base",
            "_model_module_version": "1.2.0",
            "_model_name": "LayoutModel",
            "_view_count": null,
            "_view_module": "@jupyter-widgets/base",
            "_view_module_version": "1.2.0",
            "_view_name": "LayoutView",
            "align_content": null,
            "align_items": null,
            "align_self": null,
            "border": null,
            "bottom": null,
            "display": null,
            "flex": null,
            "flex_flow": null,
            "grid_area": null,
            "grid_auto_columns": null,
            "grid_auto_flow": null,
            "grid_auto_rows": null,
            "grid_column": null,
            "grid_gap": null,
            "grid_row": null,
            "grid_template_areas": null,
            "grid_template_columns": null,
            "grid_template_rows": null,
            "height": null,
            "justify_content": null,
            "justify_items": null,
            "left": null,
            "margin": null,
            "max_height": null,
            "max_width": null,
            "min_height": null,
            "min_width": null,
            "object_fit": null,
            "object_position": null,
            "order": null,
            "overflow": null,
            "overflow_x": null,
            "overflow_y": null,
            "padding": null,
            "right": null,
            "top": null,
            "visibility": null,
            "width": null
          }
        },
        "788495f273b244e9af402f3b3f0cec14": {
          "model_module": "@jupyter-widgets/controls",
          "model_name": "DescriptionStyleModel",
          "model_module_version": "1.5.0",
          "state": {
            "_model_module": "@jupyter-widgets/controls",
            "_model_module_version": "1.5.0",
            "_model_name": "DescriptionStyleModel",
            "_view_count": null,
            "_view_module": "@jupyter-widgets/base",
            "_view_module_version": "1.2.0",
            "_view_name": "StyleView",
            "description_width": ""
          }
        },
        "8a715606f7ae47929cb19fa3bf5aa721": {
          "model_module": "@jupyter-widgets/base",
          "model_name": "LayoutModel",
          "model_module_version": "1.2.0",
          "state": {
            "_model_module": "@jupyter-widgets/base",
            "_model_module_version": "1.2.0",
            "_model_name": "LayoutModel",
            "_view_count": null,
            "_view_module": "@jupyter-widgets/base",
            "_view_module_version": "1.2.0",
            "_view_name": "LayoutView",
            "align_content": null,
            "align_items": null,
            "align_self": null,
            "border": null,
            "bottom": null,
            "display": null,
            "flex": null,
            "flex_flow": null,
            "grid_area": null,
            "grid_auto_columns": null,
            "grid_auto_flow": null,
            "grid_auto_rows": null,
            "grid_column": null,
            "grid_gap": null,
            "grid_row": null,
            "grid_template_areas": null,
            "grid_template_columns": null,
            "grid_template_rows": null,
            "height": null,
            "justify_content": null,
            "justify_items": null,
            "left": null,
            "margin": null,
            "max_height": null,
            "max_width": null,
            "min_height": null,
            "min_width": null,
            "object_fit": null,
            "object_position": null,
            "order": null,
            "overflow": null,
            "overflow_x": null,
            "overflow_y": null,
            "padding": null,
            "right": null,
            "top": null,
            "visibility": null,
            "width": null
          }
        },
        "cdfc3e02839e4e9d80de21c9e3a65a66": {
          "model_module": "@jupyter-widgets/controls",
          "model_name": "ProgressStyleModel",
          "model_module_version": "1.5.0",
          "state": {
            "_model_module": "@jupyter-widgets/controls",
            "_model_module_version": "1.5.0",
            "_model_name": "ProgressStyleModel",
            "_view_count": null,
            "_view_module": "@jupyter-widgets/base",
            "_view_module_version": "1.2.0",
            "_view_name": "StyleView",
            "bar_color": null,
            "description_width": ""
          }
        },
        "b3d269a411294139a45a64b058c09e23": {
          "model_module": "@jupyter-widgets/base",
          "model_name": "LayoutModel",
          "model_module_version": "1.2.0",
          "state": {
            "_model_module": "@jupyter-widgets/base",
            "_model_module_version": "1.2.0",
            "_model_name": "LayoutModel",
            "_view_count": null,
            "_view_module": "@jupyter-widgets/base",
            "_view_module_version": "1.2.0",
            "_view_name": "LayoutView",
            "align_content": null,
            "align_items": null,
            "align_self": null,
            "border": null,
            "bottom": null,
            "display": null,
            "flex": null,
            "flex_flow": null,
            "grid_area": null,
            "grid_auto_columns": null,
            "grid_auto_flow": null,
            "grid_auto_rows": null,
            "grid_column": null,
            "grid_gap": null,
            "grid_row": null,
            "grid_template_areas": null,
            "grid_template_columns": null,
            "grid_template_rows": null,
            "height": null,
            "justify_content": null,
            "justify_items": null,
            "left": null,
            "margin": null,
            "max_height": null,
            "max_width": null,
            "min_height": null,
            "min_width": null,
            "object_fit": null,
            "object_position": null,
            "order": null,
            "overflow": null,
            "overflow_x": null,
            "overflow_y": null,
            "padding": null,
            "right": null,
            "top": null,
            "visibility": null,
            "width": null
          }
        },
        "e7bff6788d7d4bfcb2a41ea21ab200f7": {
          "model_module": "@jupyter-widgets/controls",
          "model_name": "DescriptionStyleModel",
          "model_module_version": "1.5.0",
          "state": {
            "_model_module": "@jupyter-widgets/controls",
            "_model_module_version": "1.5.0",
            "_model_name": "DescriptionStyleModel",
            "_view_count": null,
            "_view_module": "@jupyter-widgets/base",
            "_view_module_version": "1.2.0",
            "_view_name": "StyleView",
            "description_width": ""
          }
        },
        "b64185f6993b477dbb7f727376fbf62b": {
          "model_module": "@jupyter-widgets/controls",
          "model_name": "HBoxModel",
          "model_module_version": "1.5.0",
          "state": {
            "_dom_classes": [],
            "_model_module": "@jupyter-widgets/controls",
            "_model_module_version": "1.5.0",
            "_model_name": "HBoxModel",
            "_view_count": null,
            "_view_module": "@jupyter-widgets/controls",
            "_view_module_version": "1.5.0",
            "_view_name": "HBoxView",
            "box_style": "",
            "children": [
              "IPY_MODEL_4af5e04b21da45e1a13998961b66e18c",
              "IPY_MODEL_c08a758d326449a1af16388aa6ecbc57",
              "IPY_MODEL_7447b46c004347fda11ca081915c0963"
            ],
            "layout": "IPY_MODEL_67b5025b337241abbb17f32aa6cec4ce"
          }
        },
        "4af5e04b21da45e1a13998961b66e18c": {
          "model_module": "@jupyter-widgets/controls",
          "model_name": "HTMLModel",
          "model_module_version": "1.5.0",
          "state": {
            "_dom_classes": [],
            "_model_module": "@jupyter-widgets/controls",
            "_model_module_version": "1.5.0",
            "_model_name": "HTMLModel",
            "_view_count": null,
            "_view_module": "@jupyter-widgets/controls",
            "_view_module_version": "1.5.0",
            "_view_name": "HTMLView",
            "description": "",
            "description_tooltip": null,
            "layout": "IPY_MODEL_59c2ef00a91c42fcaf5022f6349b2caa",
            "placeholder": "​",
            "style": "IPY_MODEL_2c7c73223799433a8de11898695ff374",
            "value": "vocab.txt: 100%"
          }
        },
        "c08a758d326449a1af16388aa6ecbc57": {
          "model_module": "@jupyter-widgets/controls",
          "model_name": "FloatProgressModel",
          "model_module_version": "1.5.0",
          "state": {
            "_dom_classes": [],
            "_model_module": "@jupyter-widgets/controls",
            "_model_module_version": "1.5.0",
            "_model_name": "FloatProgressModel",
            "_view_count": null,
            "_view_module": "@jupyter-widgets/controls",
            "_view_module_version": "1.5.0",
            "_view_name": "ProgressView",
            "bar_style": "success",
            "description": "",
            "description_tooltip": null,
            "layout": "IPY_MODEL_1616b646572045258db7464cee5eba99",
            "max": 871891,
            "min": 0,
            "orientation": "horizontal",
            "style": "IPY_MODEL_cefa6c7d31d040f982f9be3368ff3e52",
            "value": 871891
          }
        },
        "7447b46c004347fda11ca081915c0963": {
          "model_module": "@jupyter-widgets/controls",
          "model_name": "HTMLModel",
          "model_module_version": "1.5.0",
          "state": {
            "_dom_classes": [],
            "_model_module": "@jupyter-widgets/controls",
            "_model_module_version": "1.5.0",
            "_model_name": "HTMLModel",
            "_view_count": null,
            "_view_module": "@jupyter-widgets/controls",
            "_view_module_version": "1.5.0",
            "_view_name": "HTMLView",
            "description": "",
            "description_tooltip": null,
            "layout": "IPY_MODEL_3873bc5112f64cc0bed8b09706adf59e",
            "placeholder": "​",
            "style": "IPY_MODEL_6d72b0381e66470880d9fab6a5664d88",
            "value": " 872k/872k [00:00&lt;00:00, 6.57MB/s]"
          }
        },
        "67b5025b337241abbb17f32aa6cec4ce": {
          "model_module": "@jupyter-widgets/base",
          "model_name": "LayoutModel",
          "model_module_version": "1.2.0",
          "state": {
            "_model_module": "@jupyter-widgets/base",
            "_model_module_version": "1.2.0",
            "_model_name": "LayoutModel",
            "_view_count": null,
            "_view_module": "@jupyter-widgets/base",
            "_view_module_version": "1.2.0",
            "_view_name": "LayoutView",
            "align_content": null,
            "align_items": null,
            "align_self": null,
            "border": null,
            "bottom": null,
            "display": null,
            "flex": null,
            "flex_flow": null,
            "grid_area": null,
            "grid_auto_columns": null,
            "grid_auto_flow": null,
            "grid_auto_rows": null,
            "grid_column": null,
            "grid_gap": null,
            "grid_row": null,
            "grid_template_areas": null,
            "grid_template_columns": null,
            "grid_template_rows": null,
            "height": null,
            "justify_content": null,
            "justify_items": null,
            "left": null,
            "margin": null,
            "max_height": null,
            "max_width": null,
            "min_height": null,
            "min_width": null,
            "object_fit": null,
            "object_position": null,
            "order": null,
            "overflow": null,
            "overflow_x": null,
            "overflow_y": null,
            "padding": null,
            "right": null,
            "top": null,
            "visibility": null,
            "width": null
          }
        },
        "59c2ef00a91c42fcaf5022f6349b2caa": {
          "model_module": "@jupyter-widgets/base",
          "model_name": "LayoutModel",
          "model_module_version": "1.2.0",
          "state": {
            "_model_module": "@jupyter-widgets/base",
            "_model_module_version": "1.2.0",
            "_model_name": "LayoutModel",
            "_view_count": null,
            "_view_module": "@jupyter-widgets/base",
            "_view_module_version": "1.2.0",
            "_view_name": "LayoutView",
            "align_content": null,
            "align_items": null,
            "align_self": null,
            "border": null,
            "bottom": null,
            "display": null,
            "flex": null,
            "flex_flow": null,
            "grid_area": null,
            "grid_auto_columns": null,
            "grid_auto_flow": null,
            "grid_auto_rows": null,
            "grid_column": null,
            "grid_gap": null,
            "grid_row": null,
            "grid_template_areas": null,
            "grid_template_columns": null,
            "grid_template_rows": null,
            "height": null,
            "justify_content": null,
            "justify_items": null,
            "left": null,
            "margin": null,
            "max_height": null,
            "max_width": null,
            "min_height": null,
            "min_width": null,
            "object_fit": null,
            "object_position": null,
            "order": null,
            "overflow": null,
            "overflow_x": null,
            "overflow_y": null,
            "padding": null,
            "right": null,
            "top": null,
            "visibility": null,
            "width": null
          }
        },
        "2c7c73223799433a8de11898695ff374": {
          "model_module": "@jupyter-widgets/controls",
          "model_name": "DescriptionStyleModel",
          "model_module_version": "1.5.0",
          "state": {
            "_model_module": "@jupyter-widgets/controls",
            "_model_module_version": "1.5.0",
            "_model_name": "DescriptionStyleModel",
            "_view_count": null,
            "_view_module": "@jupyter-widgets/base",
            "_view_module_version": "1.2.0",
            "_view_name": "StyleView",
            "description_width": ""
          }
        },
        "1616b646572045258db7464cee5eba99": {
          "model_module": "@jupyter-widgets/base",
          "model_name": "LayoutModel",
          "model_module_version": "1.2.0",
          "state": {
            "_model_module": "@jupyter-widgets/base",
            "_model_module_version": "1.2.0",
            "_model_name": "LayoutModel",
            "_view_count": null,
            "_view_module": "@jupyter-widgets/base",
            "_view_module_version": "1.2.0",
            "_view_name": "LayoutView",
            "align_content": null,
            "align_items": null,
            "align_self": null,
            "border": null,
            "bottom": null,
            "display": null,
            "flex": null,
            "flex_flow": null,
            "grid_area": null,
            "grid_auto_columns": null,
            "grid_auto_flow": null,
            "grid_auto_rows": null,
            "grid_column": null,
            "grid_gap": null,
            "grid_row": null,
            "grid_template_areas": null,
            "grid_template_columns": null,
            "grid_template_rows": null,
            "height": null,
            "justify_content": null,
            "justify_items": null,
            "left": null,
            "margin": null,
            "max_height": null,
            "max_width": null,
            "min_height": null,
            "min_width": null,
            "object_fit": null,
            "object_position": null,
            "order": null,
            "overflow": null,
            "overflow_x": null,
            "overflow_y": null,
            "padding": null,
            "right": null,
            "top": null,
            "visibility": null,
            "width": null
          }
        },
        "cefa6c7d31d040f982f9be3368ff3e52": {
          "model_module": "@jupyter-widgets/controls",
          "model_name": "ProgressStyleModel",
          "model_module_version": "1.5.0",
          "state": {
            "_model_module": "@jupyter-widgets/controls",
            "_model_module_version": "1.5.0",
            "_model_name": "ProgressStyleModel",
            "_view_count": null,
            "_view_module": "@jupyter-widgets/base",
            "_view_module_version": "1.2.0",
            "_view_name": "StyleView",
            "bar_color": null,
            "description_width": ""
          }
        },
        "3873bc5112f64cc0bed8b09706adf59e": {
          "model_module": "@jupyter-widgets/base",
          "model_name": "LayoutModel",
          "model_module_version": "1.2.0",
          "state": {
            "_model_module": "@jupyter-widgets/base",
            "_model_module_version": "1.2.0",
            "_model_name": "LayoutModel",
            "_view_count": null,
            "_view_module": "@jupyter-widgets/base",
            "_view_module_version": "1.2.0",
            "_view_name": "LayoutView",
            "align_content": null,
            "align_items": null,
            "align_self": null,
            "border": null,
            "bottom": null,
            "display": null,
            "flex": null,
            "flex_flow": null,
            "grid_area": null,
            "grid_auto_columns": null,
            "grid_auto_flow": null,
            "grid_auto_rows": null,
            "grid_column": null,
            "grid_gap": null,
            "grid_row": null,
            "grid_template_areas": null,
            "grid_template_columns": null,
            "grid_template_rows": null,
            "height": null,
            "justify_content": null,
            "justify_items": null,
            "left": null,
            "margin": null,
            "max_height": null,
            "max_width": null,
            "min_height": null,
            "min_width": null,
            "object_fit": null,
            "object_position": null,
            "order": null,
            "overflow": null,
            "overflow_x": null,
            "overflow_y": null,
            "padding": null,
            "right": null,
            "top": null,
            "visibility": null,
            "width": null
          }
        },
        "6d72b0381e66470880d9fab6a5664d88": {
          "model_module": "@jupyter-widgets/controls",
          "model_name": "DescriptionStyleModel",
          "model_module_version": "1.5.0",
          "state": {
            "_model_module": "@jupyter-widgets/controls",
            "_model_module_version": "1.5.0",
            "_model_name": "DescriptionStyleModel",
            "_view_count": null,
            "_view_module": "@jupyter-widgets/base",
            "_view_module_version": "1.2.0",
            "_view_name": "StyleView",
            "description_width": ""
          }
        },
        "34bf707986ea4b02a011be26b393ede1": {
          "model_module": "@jupyter-widgets/controls",
          "model_name": "HBoxModel",
          "model_module_version": "1.5.0",
          "state": {
            "_dom_classes": [],
            "_model_module": "@jupyter-widgets/controls",
            "_model_module_version": "1.5.0",
            "_model_name": "HBoxModel",
            "_view_count": null,
            "_view_module": "@jupyter-widgets/controls",
            "_view_module_version": "1.5.0",
            "_view_name": "HBoxView",
            "box_style": "",
            "children": [
              "IPY_MODEL_1d3238b76c214a85af8d1940dbd40811",
              "IPY_MODEL_c6d05e929bba494cad18352aca41be5a",
              "IPY_MODEL_e9ff74c994ab4672ad2ad8efc4cee19b"
            ],
            "layout": "IPY_MODEL_82c4034825184a7faf045dc1d8a4b362"
          }
        },
        "1d3238b76c214a85af8d1940dbd40811": {
          "model_module": "@jupyter-widgets/controls",
          "model_name": "HTMLModel",
          "model_module_version": "1.5.0",
          "state": {
            "_dom_classes": [],
            "_model_module": "@jupyter-widgets/controls",
            "_model_module_version": "1.5.0",
            "_model_name": "HTMLModel",
            "_view_count": null,
            "_view_module": "@jupyter-widgets/controls",
            "_view_module_version": "1.5.0",
            "_view_name": "HTMLView",
            "description": "",
            "description_tooltip": null,
            "layout": "IPY_MODEL_d965eb046004472d8002fdbd1461f167",
            "placeholder": "​",
            "style": "IPY_MODEL_0f883b73587349b799ba0d68d1938206",
            "value": "tokenizer.json: 100%"
          }
        },
        "c6d05e929bba494cad18352aca41be5a": {
          "model_module": "@jupyter-widgets/controls",
          "model_name": "FloatProgressModel",
          "model_module_version": "1.5.0",
          "state": {
            "_dom_classes": [],
            "_model_module": "@jupyter-widgets/controls",
            "_model_module_version": "1.5.0",
            "_model_name": "FloatProgressModel",
            "_view_count": null,
            "_view_module": "@jupyter-widgets/controls",
            "_view_module_version": "1.5.0",
            "_view_name": "ProgressView",
            "bar_style": "success",
            "description": "",
            "description_tooltip": null,
            "layout": "IPY_MODEL_00d848044ec74317a8347bedb8d8e034",
            "max": 1715180,
            "min": 0,
            "orientation": "horizontal",
            "style": "IPY_MODEL_46dda43a913448629f04994d03826114",
            "value": 1715180
          }
        },
        "e9ff74c994ab4672ad2ad8efc4cee19b": {
          "model_module": "@jupyter-widgets/controls",
          "model_name": "HTMLModel",
          "model_module_version": "1.5.0",
          "state": {
            "_dom_classes": [],
            "_model_module": "@jupyter-widgets/controls",
            "_model_module_version": "1.5.0",
            "_model_name": "HTMLModel",
            "_view_count": null,
            "_view_module": "@jupyter-widgets/controls",
            "_view_module_version": "1.5.0",
            "_view_name": "HTMLView",
            "description": "",
            "description_tooltip": null,
            "layout": "IPY_MODEL_a7df7b9c5f084c5496b4e9b341cc05ba",
            "placeholder": "​",
            "style": "IPY_MODEL_4047db25c876417bbff4be25c04e421f",
            "value": " 1.72M/1.72M [00:00&lt;00:00, 8.76MB/s]"
          }
        },
        "82c4034825184a7faf045dc1d8a4b362": {
          "model_module": "@jupyter-widgets/base",
          "model_name": "LayoutModel",
          "model_module_version": "1.2.0",
          "state": {
            "_model_module": "@jupyter-widgets/base",
            "_model_module_version": "1.2.0",
            "_model_name": "LayoutModel",
            "_view_count": null,
            "_view_module": "@jupyter-widgets/base",
            "_view_module_version": "1.2.0",
            "_view_name": "LayoutView",
            "align_content": null,
            "align_items": null,
            "align_self": null,
            "border": null,
            "bottom": null,
            "display": null,
            "flex": null,
            "flex_flow": null,
            "grid_area": null,
            "grid_auto_columns": null,
            "grid_auto_flow": null,
            "grid_auto_rows": null,
            "grid_column": null,
            "grid_gap": null,
            "grid_row": null,
            "grid_template_areas": null,
            "grid_template_columns": null,
            "grid_template_rows": null,
            "height": null,
            "justify_content": null,
            "justify_items": null,
            "left": null,
            "margin": null,
            "max_height": null,
            "max_width": null,
            "min_height": null,
            "min_width": null,
            "object_fit": null,
            "object_position": null,
            "order": null,
            "overflow": null,
            "overflow_x": null,
            "overflow_y": null,
            "padding": null,
            "right": null,
            "top": null,
            "visibility": null,
            "width": null
          }
        },
        "d965eb046004472d8002fdbd1461f167": {
          "model_module": "@jupyter-widgets/base",
          "model_name": "LayoutModel",
          "model_module_version": "1.2.0",
          "state": {
            "_model_module": "@jupyter-widgets/base",
            "_model_module_version": "1.2.0",
            "_model_name": "LayoutModel",
            "_view_count": null,
            "_view_module": "@jupyter-widgets/base",
            "_view_module_version": "1.2.0",
            "_view_name": "LayoutView",
            "align_content": null,
            "align_items": null,
            "align_self": null,
            "border": null,
            "bottom": null,
            "display": null,
            "flex": null,
            "flex_flow": null,
            "grid_area": null,
            "grid_auto_columns": null,
            "grid_auto_flow": null,
            "grid_auto_rows": null,
            "grid_column": null,
            "grid_gap": null,
            "grid_row": null,
            "grid_template_areas": null,
            "grid_template_columns": null,
            "grid_template_rows": null,
            "height": null,
            "justify_content": null,
            "justify_items": null,
            "left": null,
            "margin": null,
            "max_height": null,
            "max_width": null,
            "min_height": null,
            "min_width": null,
            "object_fit": null,
            "object_position": null,
            "order": null,
            "overflow": null,
            "overflow_x": null,
            "overflow_y": null,
            "padding": null,
            "right": null,
            "top": null,
            "visibility": null,
            "width": null
          }
        },
        "0f883b73587349b799ba0d68d1938206": {
          "model_module": "@jupyter-widgets/controls",
          "model_name": "DescriptionStyleModel",
          "model_module_version": "1.5.0",
          "state": {
            "_model_module": "@jupyter-widgets/controls",
            "_model_module_version": "1.5.0",
            "_model_name": "DescriptionStyleModel",
            "_view_count": null,
            "_view_module": "@jupyter-widgets/base",
            "_view_module_version": "1.2.0",
            "_view_name": "StyleView",
            "description_width": ""
          }
        },
        "00d848044ec74317a8347bedb8d8e034": {
          "model_module": "@jupyter-widgets/base",
          "model_name": "LayoutModel",
          "model_module_version": "1.2.0",
          "state": {
            "_model_module": "@jupyter-widgets/base",
            "_model_module_version": "1.2.0",
            "_model_name": "LayoutModel",
            "_view_count": null,
            "_view_module": "@jupyter-widgets/base",
            "_view_module_version": "1.2.0",
            "_view_name": "LayoutView",
            "align_content": null,
            "align_items": null,
            "align_self": null,
            "border": null,
            "bottom": null,
            "display": null,
            "flex": null,
            "flex_flow": null,
            "grid_area": null,
            "grid_auto_columns": null,
            "grid_auto_flow": null,
            "grid_auto_rows": null,
            "grid_column": null,
            "grid_gap": null,
            "grid_row": null,
            "grid_template_areas": null,
            "grid_template_columns": null,
            "grid_template_rows": null,
            "height": null,
            "justify_content": null,
            "justify_items": null,
            "left": null,
            "margin": null,
            "max_height": null,
            "max_width": null,
            "min_height": null,
            "min_width": null,
            "object_fit": null,
            "object_position": null,
            "order": null,
            "overflow": null,
            "overflow_x": null,
            "overflow_y": null,
            "padding": null,
            "right": null,
            "top": null,
            "visibility": null,
            "width": null
          }
        },
        "46dda43a913448629f04994d03826114": {
          "model_module": "@jupyter-widgets/controls",
          "model_name": "ProgressStyleModel",
          "model_module_version": "1.5.0",
          "state": {
            "_model_module": "@jupyter-widgets/controls",
            "_model_module_version": "1.5.0",
            "_model_name": "ProgressStyleModel",
            "_view_count": null,
            "_view_module": "@jupyter-widgets/base",
            "_view_module_version": "1.2.0",
            "_view_name": "StyleView",
            "bar_color": null,
            "description_width": ""
          }
        },
        "a7df7b9c5f084c5496b4e9b341cc05ba": {
          "model_module": "@jupyter-widgets/base",
          "model_name": "LayoutModel",
          "model_module_version": "1.2.0",
          "state": {
            "_model_module": "@jupyter-widgets/base",
            "_model_module_version": "1.2.0",
            "_model_name": "LayoutModel",
            "_view_count": null,
            "_view_module": "@jupyter-widgets/base",
            "_view_module_version": "1.2.0",
            "_view_name": "LayoutView",
            "align_content": null,
            "align_items": null,
            "align_self": null,
            "border": null,
            "bottom": null,
            "display": null,
            "flex": null,
            "flex_flow": null,
            "grid_area": null,
            "grid_auto_columns": null,
            "grid_auto_flow": null,
            "grid_auto_rows": null,
            "grid_column": null,
            "grid_gap": null,
            "grid_row": null,
            "grid_template_areas": null,
            "grid_template_columns": null,
            "grid_template_rows": null,
            "height": null,
            "justify_content": null,
            "justify_items": null,
            "left": null,
            "margin": null,
            "max_height": null,
            "max_width": null,
            "min_height": null,
            "min_width": null,
            "object_fit": null,
            "object_position": null,
            "order": null,
            "overflow": null,
            "overflow_x": null,
            "overflow_y": null,
            "padding": null,
            "right": null,
            "top": null,
            "visibility": null,
            "width": null
          }
        },
        "4047db25c876417bbff4be25c04e421f": {
          "model_module": "@jupyter-widgets/controls",
          "model_name": "DescriptionStyleModel",
          "model_module_version": "1.5.0",
          "state": {
            "_model_module": "@jupyter-widgets/controls",
            "_model_module_version": "1.5.0",
            "_model_name": "DescriptionStyleModel",
            "_view_count": null,
            "_view_module": "@jupyter-widgets/base",
            "_view_module_version": "1.2.0",
            "_view_name": "StyleView",
            "description_width": ""
          }
        },
        "4750265098534b23be5b6b9a1c137f17": {
          "model_module": "@jupyter-widgets/controls",
          "model_name": "HBoxModel",
          "model_module_version": "1.5.0",
          "state": {
            "_dom_classes": [],
            "_model_module": "@jupyter-widgets/controls",
            "_model_module_version": "1.5.0",
            "_model_name": "HBoxModel",
            "_view_count": null,
            "_view_module": "@jupyter-widgets/controls",
            "_view_module_version": "1.5.0",
            "_view_name": "HBoxView",
            "box_style": "",
            "children": [
              "IPY_MODEL_d50b123925e344aa9ec87b13b89668b5",
              "IPY_MODEL_c12c6b35ebda42558f5b202eee171b6e",
              "IPY_MODEL_c375c3a776dd4696993b845f357d3da5"
            ],
            "layout": "IPY_MODEL_914bebf157b94a00ad2e7dcb1fe0c739"
          }
        },
        "d50b123925e344aa9ec87b13b89668b5": {
          "model_module": "@jupyter-widgets/controls",
          "model_name": "HTMLModel",
          "model_module_version": "1.5.0",
          "state": {
            "_dom_classes": [],
            "_model_module": "@jupyter-widgets/controls",
            "_model_module_version": "1.5.0",
            "_model_name": "HTMLModel",
            "_view_count": null,
            "_view_module": "@jupyter-widgets/controls",
            "_view_module_version": "1.5.0",
            "_view_name": "HTMLView",
            "description": "",
            "description_tooltip": null,
            "layout": "IPY_MODEL_91203440aedb414cb58f52a414f42b9c",
            "placeholder": "​",
            "style": "IPY_MODEL_91b44e6270ba4e12a79f781d65ef11d9",
            "value": "model.safetensors: 100%"
          }
        },
        "c12c6b35ebda42558f5b202eee171b6e": {
          "model_module": "@jupyter-widgets/controls",
          "model_name": "FloatProgressModel",
          "model_module_version": "1.5.0",
          "state": {
            "_dom_classes": [],
            "_model_module": "@jupyter-widgets/controls",
            "_model_module_version": "1.5.0",
            "_model_name": "FloatProgressModel",
            "_view_count": null,
            "_view_module": "@jupyter-widgets/controls",
            "_view_module_version": "1.5.0",
            "_view_name": "ProgressView",
            "bar_style": "success",
            "description": "",
            "description_tooltip": null,
            "layout": "IPY_MODEL_be23266eb7f340499f10bd7d45e61d57",
            "max": 672247920,
            "min": 0,
            "orientation": "horizontal",
            "style": "IPY_MODEL_7784007eadb446bbba6beef4c90c3d5d",
            "value": 672247920
          }
        },
        "c375c3a776dd4696993b845f357d3da5": {
          "model_module": "@jupyter-widgets/controls",
          "model_name": "HTMLModel",
          "model_module_version": "1.5.0",
          "state": {
            "_dom_classes": [],
            "_model_module": "@jupyter-widgets/controls",
            "_model_module_version": "1.5.0",
            "_model_name": "HTMLModel",
            "_view_count": null,
            "_view_module": "@jupyter-widgets/controls",
            "_view_module_version": "1.5.0",
            "_view_name": "HTMLView",
            "description": "",
            "description_tooltip": null,
            "layout": "IPY_MODEL_bdd3cfaa803e4959b613e67b827e6d56",
            "placeholder": "​",
            "style": "IPY_MODEL_867e36ba5049443183a727ae455c862a",
            "value": " 672M/672M [00:13&lt;00:00, 55.1MB/s]"
          }
        },
        "914bebf157b94a00ad2e7dcb1fe0c739": {
          "model_module": "@jupyter-widgets/base",
          "model_name": "LayoutModel",
          "model_module_version": "1.2.0",
          "state": {
            "_model_module": "@jupyter-widgets/base",
            "_model_module_version": "1.2.0",
            "_model_name": "LayoutModel",
            "_view_count": null,
            "_view_module": "@jupyter-widgets/base",
            "_view_module_version": "1.2.0",
            "_view_name": "LayoutView",
            "align_content": null,
            "align_items": null,
            "align_self": null,
            "border": null,
            "bottom": null,
            "display": null,
            "flex": null,
            "flex_flow": null,
            "grid_area": null,
            "grid_auto_columns": null,
            "grid_auto_flow": null,
            "grid_auto_rows": null,
            "grid_column": null,
            "grid_gap": null,
            "grid_row": null,
            "grid_template_areas": null,
            "grid_template_columns": null,
            "grid_template_rows": null,
            "height": null,
            "justify_content": null,
            "justify_items": null,
            "left": null,
            "margin": null,
            "max_height": null,
            "max_width": null,
            "min_height": null,
            "min_width": null,
            "object_fit": null,
            "object_position": null,
            "order": null,
            "overflow": null,
            "overflow_x": null,
            "overflow_y": null,
            "padding": null,
            "right": null,
            "top": null,
            "visibility": null,
            "width": null
          }
        },
        "91203440aedb414cb58f52a414f42b9c": {
          "model_module": "@jupyter-widgets/base",
          "model_name": "LayoutModel",
          "model_module_version": "1.2.0",
          "state": {
            "_model_module": "@jupyter-widgets/base",
            "_model_module_version": "1.2.0",
            "_model_name": "LayoutModel",
            "_view_count": null,
            "_view_module": "@jupyter-widgets/base",
            "_view_module_version": "1.2.0",
            "_view_name": "LayoutView",
            "align_content": null,
            "align_items": null,
            "align_self": null,
            "border": null,
            "bottom": null,
            "display": null,
            "flex": null,
            "flex_flow": null,
            "grid_area": null,
            "grid_auto_columns": null,
            "grid_auto_flow": null,
            "grid_auto_rows": null,
            "grid_column": null,
            "grid_gap": null,
            "grid_row": null,
            "grid_template_areas": null,
            "grid_template_columns": null,
            "grid_template_rows": null,
            "height": null,
            "justify_content": null,
            "justify_items": null,
            "left": null,
            "margin": null,
            "max_height": null,
            "max_width": null,
            "min_height": null,
            "min_width": null,
            "object_fit": null,
            "object_position": null,
            "order": null,
            "overflow": null,
            "overflow_x": null,
            "overflow_y": null,
            "padding": null,
            "right": null,
            "top": null,
            "visibility": null,
            "width": null
          }
        },
        "91b44e6270ba4e12a79f781d65ef11d9": {
          "model_module": "@jupyter-widgets/controls",
          "model_name": "DescriptionStyleModel",
          "model_module_version": "1.5.0",
          "state": {
            "_model_module": "@jupyter-widgets/controls",
            "_model_module_version": "1.5.0",
            "_model_name": "DescriptionStyleModel",
            "_view_count": null,
            "_view_module": "@jupyter-widgets/base",
            "_view_module_version": "1.2.0",
            "_view_name": "StyleView",
            "description_width": ""
          }
        },
        "be23266eb7f340499f10bd7d45e61d57": {
          "model_module": "@jupyter-widgets/base",
          "model_name": "LayoutModel",
          "model_module_version": "1.2.0",
          "state": {
            "_model_module": "@jupyter-widgets/base",
            "_model_module_version": "1.2.0",
            "_model_name": "LayoutModel",
            "_view_count": null,
            "_view_module": "@jupyter-widgets/base",
            "_view_module_version": "1.2.0",
            "_view_name": "LayoutView",
            "align_content": null,
            "align_items": null,
            "align_self": null,
            "border": null,
            "bottom": null,
            "display": null,
            "flex": null,
            "flex_flow": null,
            "grid_area": null,
            "grid_auto_columns": null,
            "grid_auto_flow": null,
            "grid_auto_rows": null,
            "grid_column": null,
            "grid_gap": null,
            "grid_row": null,
            "grid_template_areas": null,
            "grid_template_columns": null,
            "grid_template_rows": null,
            "height": null,
            "justify_content": null,
            "justify_items": null,
            "left": null,
            "margin": null,
            "max_height": null,
            "max_width": null,
            "min_height": null,
            "min_width": null,
            "object_fit": null,
            "object_position": null,
            "order": null,
            "overflow": null,
            "overflow_x": null,
            "overflow_y": null,
            "padding": null,
            "right": null,
            "top": null,
            "visibility": null,
            "width": null
          }
        },
        "7784007eadb446bbba6beef4c90c3d5d": {
          "model_module": "@jupyter-widgets/controls",
          "model_name": "ProgressStyleModel",
          "model_module_version": "1.5.0",
          "state": {
            "_model_module": "@jupyter-widgets/controls",
            "_model_module_version": "1.5.0",
            "_model_name": "ProgressStyleModel",
            "_view_count": null,
            "_view_module": "@jupyter-widgets/base",
            "_view_module_version": "1.2.0",
            "_view_name": "StyleView",
            "bar_color": null,
            "description_width": ""
          }
        },
        "bdd3cfaa803e4959b613e67b827e6d56": {
          "model_module": "@jupyter-widgets/base",
          "model_name": "LayoutModel",
          "model_module_version": "1.2.0",
          "state": {
            "_model_module": "@jupyter-widgets/base",
            "_model_module_version": "1.2.0",
            "_model_name": "LayoutModel",
            "_view_count": null,
            "_view_module": "@jupyter-widgets/base",
            "_view_module_version": "1.2.0",
            "_view_name": "LayoutView",
            "align_content": null,
            "align_items": null,
            "align_self": null,
            "border": null,
            "bottom": null,
            "display": null,
            "flex": null,
            "flex_flow": null,
            "grid_area": null,
            "grid_auto_columns": null,
            "grid_auto_flow": null,
            "grid_auto_rows": null,
            "grid_column": null,
            "grid_gap": null,
            "grid_row": null,
            "grid_template_areas": null,
            "grid_template_columns": null,
            "grid_template_rows": null,
            "height": null,
            "justify_content": null,
            "justify_items": null,
            "left": null,
            "margin": null,
            "max_height": null,
            "max_width": null,
            "min_height": null,
            "min_width": null,
            "object_fit": null,
            "object_position": null,
            "order": null,
            "overflow": null,
            "overflow_x": null,
            "overflow_y": null,
            "padding": null,
            "right": null,
            "top": null,
            "visibility": null,
            "width": null
          }
        },
        "867e36ba5049443183a727ae455c862a": {
          "model_module": "@jupyter-widgets/controls",
          "model_name": "DescriptionStyleModel",
          "model_module_version": "1.5.0",
          "state": {
            "_model_module": "@jupyter-widgets/controls",
            "_model_module_version": "1.5.0",
            "_model_name": "DescriptionStyleModel",
            "_view_count": null,
            "_view_module": "@jupyter-widgets/base",
            "_view_module_version": "1.2.0",
            "_view_name": "StyleView",
            "description_width": ""
          }
        }
      }
    }
  },
  "nbformat": 4,
  "nbformat_minor": 0
}